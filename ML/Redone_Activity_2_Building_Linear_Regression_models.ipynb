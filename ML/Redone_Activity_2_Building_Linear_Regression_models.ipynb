{
  "nbformat": 4,
  "nbformat_minor": 0,
  "metadata": {
    "colab": {
      "provenance": [],
      "toc_visible": true
    },
    "kernelspec": {
      "name": "python3",
      "display_name": "Python 3"
    }
  },
  "cells": [
    {
      "cell_type": "markdown",
      "metadata": {
        "id": "Gb_-5j-glMb3"
      },
      "source": [
        "# Linear regression models with Python\n",
        "\n",
        "In this notebook, we will be studying how to implement a regression model in Python. Firstly, we will be doing it from scratch, to learn and reinforce the concepts. In the future, you will be using a library, like the SciPy, where you can find several models and helper functions already implemented, ready to use. For now, as our objective is to learn and understand how regression models work, we will be using just utilitary libraries, like Pandas, just to perform the heavy lifting of data for us. Let us start with a monovalorate model.\n",
        "\n",
        "Add some text."
      ]
    },
    {
      "cell_type": "markdown",
      "metadata": {
        "id": "MyKDBBEOr_ml"
      },
      "source": [
        "## Linear regression with one variable\n",
        "\n",
        "The simplest linear regression model we can build is, as you already should know by now, the single variable linear model. Just to recall, a single variable linear model assumes our data behaves like a first-degree function, like this one:\n",
        "\n",
        "$$ y_i = \\theta_0 + \\theta_1 x_i $$\n",
        "\n",
        "In the function, remember, the $\\theta$ coefficients are the model's parameters. We observe our data, collecting a series of $(x,y)$ pairs or observations. The variable $x$ is our independent variable, and the variable $y$ is our dependent variable. Our goal will be determining the values of $\\theta$ that will give as a function that makes the best guess at how our data behaves, so we can predict future values.\n",
        "\n",
        "Now, let me show you an example, and after studying it, you will be making your own model! First, let us start a code cell and make some preparations to run our code. This procedure needs to be done only once. All following code cells will have access to any library, variable, function or class you declare previously."
      ]
    },
    {
      "cell_type": "code",
      "metadata": {
        "id": "05Y-K1bOlT46"
      },
      "source": [
        "# This command sets up the plots to be done inline\n",
        "%matplotlib inline\n",
        "import numpy as np # Python's numeric and linear algebra lib\n",
        "import random # Randomization lib\n",
        "import pandas as pd # Data manipulation and statistical analysis\n",
        "import matplotlib.pyplot as plt # The versatile plotting lib"
      ],
      "execution_count": null,
      "outputs": []
    },
    {
      "cell_type": "markdown",
      "metadata": {
        "id": "2njkt9sVzn4X"
      },
      "source": [
        "With the libraries and pre-configs done, now we need data to work on. There are diverse ways to organize your data. One of the most common formats to store and share is the CSV format. Alongside this notebook, you'll find some csv files you can use to study. Also, the [UCI Machine Learning repository](https://archive.ics.uci.edu/ml/index.php) offers a wide range of public datasets you can use.\n",
        "\n",
        "Let's use the Pandas library to load a file. It offers the function `read_csv`, that does just what we need. First, you have to save the csv files provided in the archive to your Google Drive. Once saved, you can use the function below to mount your drive as a virtual disk, accessible from your notebook. You can also see the files you have in the left panel.\n",
        "\n",
        "With your drive mounted, you can easily list your contents with the `!ls` command. One tip is to navigate to your desired file using the left panel, them right-click it and use the option \"Copy path\". Then, just paste it in the `read_csv` function below and let the magic happen. Let's open the `house_prices.csv` file to start our study:"
      ]
    },
    {
      "cell_type": "code",
      "metadata": {
        "id": "McvKDG0m2Vjd",
        "colab": {
          "base_uri": "https://localhost:8080/",
          "height": 666
        },
        "outputId": "6f2788c5-014c-4245-d4dd-da7a6e4bb228"
      },
      "source": [
        "from google.colab import drive\n",
        "drive.mount('/content/drive')\n",
        "# Change the path to your own file, after uploading it to your Google Drive\n",
        "house_prices = pd.read_csv(\"/content/drive/My Drive/Classroom/Machine Learning GEAD-VG.ING.EAD.2020 2/Stage 1.2 - Activity 2 - Building Linear Regression models/Chika Higuchi - house_prices.csv\")\n",
        "house_prices"
      ],
      "execution_count": null,
      "outputs": [
        {
          "output_type": "stream",
          "text": [
            "Mounted at /content/drive\n"
          ],
          "name": "stdout"
        },
        {
          "output_type": "execute_result",
          "data": {
            "text/html": [
              "<div>\n",
              "<style scoped>\n",
              "    .dataframe tbody tr th:only-of-type {\n",
              "        vertical-align: middle;\n",
              "    }\n",
              "\n",
              "    .dataframe tbody tr th {\n",
              "        vertical-align: top;\n",
              "    }\n",
              "\n",
              "    .dataframe thead th {\n",
              "        text-align: right;\n",
              "    }\n",
              "</style>\n",
              "<table border=\"1\" class=\"dataframe\">\n",
              "  <thead>\n",
              "    <tr style=\"text-align: right;\">\n",
              "      <th></th>\n",
              "      <th>Price</th>\n",
              "      <th>Size</th>\n",
              "      <th>Chambers</th>\n",
              "      <th>Parking space</th>\n",
              "    </tr>\n",
              "  </thead>\n",
              "  <tbody>\n",
              "    <tr>\n",
              "      <th>0</th>\n",
              "      <td>60000</td>\n",
              "      <td>100</td>\n",
              "      <td>2</td>\n",
              "      <td>2</td>\n",
              "    </tr>\n",
              "    <tr>\n",
              "      <th>1</th>\n",
              "      <td>60000</td>\n",
              "      <td>95</td>\n",
              "      <td>1</td>\n",
              "      <td>1</td>\n",
              "    </tr>\n",
              "    <tr>\n",
              "      <th>2</th>\n",
              "      <td>62500</td>\n",
              "      <td>108</td>\n",
              "      <td>1</td>\n",
              "      <td>2</td>\n",
              "    </tr>\n",
              "    <tr>\n",
              "      <th>3</th>\n",
              "      <td>63000</td>\n",
              "      <td>134</td>\n",
              "      <td>1</td>\n",
              "      <td>1</td>\n",
              "    </tr>\n",
              "    <tr>\n",
              "      <th>4</th>\n",
              "      <td>69000</td>\n",
              "      <td>124</td>\n",
              "      <td>2</td>\n",
              "      <td>1</td>\n",
              "    </tr>\n",
              "    <tr>\n",
              "      <th>5</th>\n",
              "      <td>70000</td>\n",
              "      <td>135</td>\n",
              "      <td>1</td>\n",
              "      <td>1</td>\n",
              "    </tr>\n",
              "    <tr>\n",
              "      <th>6</th>\n",
              "      <td>70000</td>\n",
              "      <td>110</td>\n",
              "      <td>1</td>\n",
              "      <td>1</td>\n",
              "    </tr>\n",
              "    <tr>\n",
              "      <th>7</th>\n",
              "      <td>72600</td>\n",
              "      <td>128</td>\n",
              "      <td>2</td>\n",
              "      <td>1</td>\n",
              "    </tr>\n",
              "    <tr>\n",
              "      <th>8</th>\n",
              "      <td>72600</td>\n",
              "      <td>141</td>\n",
              "      <td>1</td>\n",
              "      <td>1</td>\n",
              "    </tr>\n",
              "    <tr>\n",
              "      <th>9</th>\n",
              "      <td>78000</td>\n",
              "      <td>138</td>\n",
              "      <td>2</td>\n",
              "      <td>1</td>\n",
              "    </tr>\n",
              "    <tr>\n",
              "      <th>10</th>\n",
              "      <td>81500</td>\n",
              "      <td>152</td>\n",
              "      <td>2</td>\n",
              "      <td>1</td>\n",
              "    </tr>\n",
              "    <tr>\n",
              "      <th>11</th>\n",
              "      <td>82000</td>\n",
              "      <td>170</td>\n",
              "      <td>1</td>\n",
              "      <td>2</td>\n",
              "    </tr>\n",
              "    <tr>\n",
              "      <th>12</th>\n",
              "      <td>85000</td>\n",
              "      <td>168</td>\n",
              "      <td>3</td>\n",
              "      <td>2</td>\n",
              "    </tr>\n",
              "    <tr>\n",
              "      <th>13</th>\n",
              "      <td>88000</td>\n",
              "      <td>174</td>\n",
              "      <td>1</td>\n",
              "      <td>1</td>\n",
              "    </tr>\n",
              "    <tr>\n",
              "      <th>14</th>\n",
              "      <td>92000</td>\n",
              "      <td>176</td>\n",
              "      <td>2</td>\n",
              "      <td>2</td>\n",
              "    </tr>\n",
              "    <tr>\n",
              "      <th>15</th>\n",
              "      <td>96400</td>\n",
              "      <td>180</td>\n",
              "      <td>3</td>\n",
              "      <td>1</td>\n",
              "    </tr>\n",
              "    <tr>\n",
              "      <th>16</th>\n",
              "      <td>100000</td>\n",
              "      <td>175</td>\n",
              "      <td>2</td>\n",
              "      <td>1</td>\n",
              "    </tr>\n",
              "    <tr>\n",
              "      <th>17</th>\n",
              "      <td>100700</td>\n",
              "      <td>165</td>\n",
              "      <td>2</td>\n",
              "      <td>1</td>\n",
              "    </tr>\n",
              "    <tr>\n",
              "      <th>18</th>\n",
              "      <td>105300</td>\n",
              "      <td>170</td>\n",
              "      <td>2</td>\n",
              "      <td>1</td>\n",
              "    </tr>\n",
              "    <tr>\n",
              "      <th>19</th>\n",
              "      <td>110000</td>\n",
              "      <td>194</td>\n",
              "      <td>1</td>\n",
              "      <td>1</td>\n",
              "    </tr>\n",
              "  </tbody>\n",
              "</table>\n",
              "</div>"
            ],
            "text/plain": [
              "     Price  Size  Chambers  Parking space\n",
              "0    60000   100         2              2\n",
              "1    60000    95         1              1\n",
              "2    62500   108         1              2\n",
              "3    63000   134         1              1\n",
              "4    69000   124         2              1\n",
              "5    70000   135         1              1\n",
              "6    70000   110         1              1\n",
              "7    72600   128         2              1\n",
              "8    72600   141         1              1\n",
              "9    78000   138         2              1\n",
              "10   81500   152         2              1\n",
              "11   82000   170         1              2\n",
              "12   85000   168         3              2\n",
              "13   88000   174         1              1\n",
              "14   92000   176         2              2\n",
              "15   96400   180         3              1\n",
              "16  100000   175         2              1\n",
              "17  100700   165         2              1\n",
              "18  105300   170         2              1\n",
              "19  110000   194         1              1"
            ]
          },
          "metadata": {
            "tags": []
          },
          "execution_count": 3
        }
      ]
    },
    {
      "cell_type": "markdown",
      "metadata": {
        "id": "-pvCa6XA6Va0"
      },
      "source": [
        "In the cell above, we loaded a file from the Google Drive and loaded it with the function read_csv. Now, we have a beautiful DataFrame with our data! A DataFrame is a data container that organizes and holds our data, making it easy to manipulate and do some calculations as well. The data was displayed as a table, as it is the default manner or visualizing a DataFrame. But Pandas is more flexible than that... Let's plot a chart, showing the Price in function of the house Size as a scatter plot, using Pandas built-in plot function."
      ]
    },
    {
      "cell_type": "code",
      "metadata": {
        "id": "sYzJD7up21Gh",
        "colab": {
          "base_uri": "https://localhost:8080/",
          "height": 279
        },
        "outputId": "d8513048-643b-4b39-9c6a-e58dccc26bd0"
      },
      "source": [
        "house_prices.plot(x='Size', y='Price', kind='scatter');"
      ],
      "execution_count": null,
      "outputs": [
        {
          "output_type": "display_data",
          "data": {
            "image/png": "[encoded data removed]",
            "text/plain": [
              "<Figure size 432x288 with 1 Axes>"
            ]
          },
          "metadata": {
            "tags": [],
            "needs_background": "light"
          }
        }
      ]
    },
    {
      "cell_type": "markdown",
      "metadata": {
        "id": "vjQ7hFm58rqr"
      },
      "source": [
        "Good! Now we can see more clearly how our data behaves. Now, we want to be ablem to predict a house's price, giving its size. Say, we have a house with a size of 155m² and we want to know how much we should charge to sell it. We can build a linear regression model for that!\n",
        "\n",
        "We learned that one way to perform a linear regression is solving an optmization problem, where we want to minimize a cost function, that will give us the minimum error between the function we are defining with the $\\theta$ parameters and the actual observations we have in our data.\n",
        "\n",
        "In the guide, we saw the Gradient Descent method, that is one of most used optmization methods. Here, we will be using another method, the [Ordinary Least Squares](https://en.wikipedia.org/wiki/Ordinary_least_squares), that can also optmize the parameters of a linear function."
      ]
    },
    {
      "cell_type": "markdown",
      "metadata": {
        "id": "10_d9F9MGZw8"
      },
      "source": [
        "### Ordinary Least Squares\n",
        "\n",
        "The OLS method tries to estimate the relation between the data points and the line given by our linear equation by reducing the error in that relation. Imagine we have data scattered around. The error is the distance of the data points in relation to the line.\n",
        "\n",
        "![]()\n",
        "\n",
        "We want the total error, that is, the error considering all data points. It can be given by a sum of the square of the distance of each point:\n",
        "\n",
        "$$ \\epsilon = \\sum_{i=1}^{n}{r_i}^2$$\n",
        "\n",
        "Where $r_i$ is the distance of the point $i$ to the line and $n$ is the total number of points. Then, by estimating the errors, we can determine the best parameters to minimize the relation in what is called the simple linear regression model, where we can find the $\\theta_1$ parameter using this relation:\n",
        "\n",
        "$$ \\theta_1 = \\frac{Cov[x,y]}{Var[x]} = \\frac{\\sum_i{(x_i - \\bar{x}})(y_i - \\bar{y})}{\\sum_i{(x_i - \\bar{x})^2}} $$\n",
        "\n",
        "Once we get the $\\theta_1$ estimation, it is easy to estimate $\\theta_0$:\n",
        "\n",
        "$$ \\theta_0 = \\bar{y} - \\theta_1\\bar{x} $$\n",
        "\n",
        "The Wikipedia page linked above has a detailed deduction of the formulas. If you like calculus (who doesn't!), it can be an interesting reasoning.\n",
        "\n",
        "Now, let's compute a model for our house pricing dataset. First, let's extract x and y (size and price) values from the DataFrame. We can easily extract specific columns from a DataFrame, just indexing by their names. Let's inspect the column namess:"
      ]
    },
    {
      "cell_type": "code",
      "metadata": {
        "id": "SHb_Z2ofwyFc",
        "colab": {
          "base_uri": "https://localhost:8080/"
        },
        "outputId": "c509896a-37a9-4e97-bc96-930e19cc085f"
      },
      "source": [
        "print('Column names: ', house_prices.columns.values)"
      ],
      "execution_count": null,
      "outputs": [
        {
          "output_type": "stream",
          "text": [
            "Column names:  ['Price' 'Size' 'Chambers' 'Parking space']\n"
          ],
          "name": "stdout"
        }
      ]
    },
    {
      "cell_type": "markdown",
      "metadata": {
        "id": "HiTtnACEwzBB"
      },
      "source": [
        "Now, let's extract the values. We will be extracting the size of each observed house as a vector, like this:\n",
        "\n",
        "$$ X = [x_1, x_2, ..., x_n] $$\n",
        "\n",
        "where each $x_i$ represents the size of one observed house. Similarly, we will also have a vector of actual values, that we denote as Y:\n",
        "\n",
        "$$ Y = [y_1, y_2, ..., y_n] $$\n",
        "\n",
        "Here as well, each $y_i$ represents a single observation of the price of a house with the corresponding size $x_i$. We use uppercase letters to denote vectors or matrices and lowercase to denote individual values."
      ]
    },
    {
      "cell_type": "code",
      "metadata": {
        "id": "nW-cDKa20GqR",
        "colab": {
          "base_uri": "https://localhost:8080/"
        },
        "outputId": "a6ae56d7-d62d-4b09-eb19-48326946dfa3"
      },
      "source": [
        "X = house_prices[\"Size\"].values\n",
        "Y = house_prices[\"Price\"].values\n",
        "\n",
        "print('Dimensions of X: ', X.shape)\n",
        "print('Dimensions of Y: ', Y.shape)"
      ],
      "execution_count": null,
      "outputs": [
        {
          "output_type": "stream",
          "text": [
            "Dimensions of X:  (20,)\n",
            "Dimensions of Y:  (20,)\n"
          ],
          "name": "stdout"
        }
      ]
    },
    {
      "cell_type": "markdown",
      "metadata": {
        "id": "7lszQZKF0JF9"
      },
      "source": [
        "Note the shape, indicating both values are one-dimensional vectors.\n",
        "\n",
        "Now, let's use the Numpy mean function to calculate the means and the len function to retrieve the number of items:"
      ]
    },
    {
      "cell_type": "code",
      "metadata": {
        "id": "8WUatuX20gLs"
      },
      "source": [
        "x_mean = X.mean()\n",
        "x_std = X.std()\n",
        "y_mean = Y.mean()\n",
        "n = len(X)"
      ],
      "execution_count": null,
      "outputs": []
    },
    {
      "cell_type": "markdown",
      "metadata": {
        "id": "rBC9EJFm0uv0"
      },
      "source": [
        "Now, let's calculate $Cov[x,y]$ and $Var[x]$:"
      ]
    },
    {
      "cell_type": "code",
      "metadata": {
        "id": "W6F6eKsK0vm1",
        "colab": {
          "base_uri": "https://localhost:8080/"
        },
        "outputId": "4b7cc556-39f8-4c71-d325-6bb2662ce1e5"
      },
      "source": [
        "# Remember that X and Y are vectors.\n",
        "# Numpy makes easy to operate with vectors\n",
        "# and matrices.\n",
        "cov_xy = np.sum((X - x_mean) * (Y - y_mean))\n",
        "var_x = np.sum((X-x_mean)**2)\n",
        "\n",
        "# The round function does not affect\n",
        "# the variable original value.\n",
        "print('cov_xy: ', round(cov_xy, 2))\n",
        "print('var_x: ', round(var_x, 2))\n"
      ],
      "execution_count": null,
      "outputs": [
        {
          "output_type": "stream",
          "text": [
            "cov_xy:  8020490.0\n",
            "var_x:  16622.55\n"
          ],
          "name": "stdout"
        }
      ]
    },
    {
      "cell_type": "markdown",
      "metadata": {
        "id": "BPvxcVpb2Aq0"
      },
      "source": [
        "Now, it is just apply the relationship and estimate the parameters:"
      ]
    },
    {
      "cell_type": "code",
      "metadata": {
        "id": "2sPR3jv42HPJ",
        "colab": {
          "base_uri": "https://localhost:8080/"
        },
        "outputId": "4d38fdb1-611c-4933-c45e-63827f0fea29"
      },
      "source": [
        "theta_1 = cov_xy / var_x\n",
        "theta_0 = y_mean - theta_1 * x_mean\n",
        "print(f'theta_0: {theta_0}')\n",
        "print(f'theta_1: {theta_1}')"
      ],
      "execution_count": null,
      "outputs": [
        {
          "output_type": "stream",
          "text": [
            "theta_0: 10073.906530586493\n",
            "theta_1: 482.5065949568506\n"
          ],
          "name": "stdout"
        }
      ]
    },
    {
      "cell_type": "markdown",
      "metadata": {
        "id": "yylljuS05BT0"
      },
      "source": [
        "And that's it! We built our linear model using the OLS method. Now, to predict the price of our house with 155 m² of size, we just plug the values in the formula:"
      ]
    },
    {
      "cell_type": "code",
      "metadata": {
        "id": "ETUN_RuN5UVI",
        "colab": {
          "base_uri": "https://localhost:8080/"
        },
        "outputId": "f16f60e9-2597-4ab9-fa61-e3e4de5130a3"
      },
      "source": [
        "x_new = 155\n",
        "y_new = theta_0 + theta_1 * x_new\n",
        "print(f'Price for a {x_new} m² house: $ {round(y_new,2)}')"
      ],
      "execution_count": null,
      "outputs": [
        {
          "output_type": "stream",
          "text": [
            "Price for a 155 m² house: $ 84862.43\n"
          ],
          "name": "stdout"
        }
      ]
    },
    {
      "cell_type": "markdown",
      "metadata": {
        "id": "P6kmtiyi5jNM"
      },
      "source": [
        "Let's plot our estimated linear model on the top of our data, so we can see the relationship better:"
      ]
    },
    {
      "cell_type": "code",
      "metadata": {
        "id": "9v8qbaYC6IYe",
        "colab": {
          "base_uri": "https://localhost:8080/",
          "height": 279
        },
        "outputId": "bfe50f8a-802f-4334-c93a-83ad8b41b6f4"
      },
      "source": [
        "# Here we are picking the colormap in use\n",
        "# to be able to choose colors more easily\n",
        "cycle = plt.rcParams['axes.prop_cycle'].by_key()['color']\n",
        "\n",
        "# Calculating line values of x and y.\n",
        "# First, let's take the minimum and maximum\n",
        "# values of x and the min of y to format the\n",
        "# plotting area.\n",
        "x_min = np.min(X)\n",
        "x_max = np.max(X)\n",
        "y_min = np.min(Y)\n",
        "\n",
        "# Now we generate a interval between the\n",
        "# min and max values of x, with 1000 points\n",
        "x = np.linspace(x_min, x_max, 1000)\n",
        "y = theta_0 + theta_1 * x\n",
        "\n",
        "# Starting the figure\n",
        "plt.figure()\n",
        "\n",
        "# Plotting the line corresponding to our model\n",
        "plt.plot(x, y, color=cycle[1], label='Linear Regression')\n",
        "\n",
        "# Plotting the observations in our dataset\n",
        "plt.scatter(X, Y, label='Price')\n",
        "\n",
        "# Now adding lines showing our predicted\n",
        "# price for a house with 155 m²\n",
        "plt.vlines(x_new, y_min, y_new, color=cycle[2], linestyle=\"dashed\")\n",
        "plt.hlines(y_new, x_min, x_new, color=cycle[2], linestyle=\"dashed\")\n",
        "\n",
        "# x-axis label\n",
        "plt.xlabel('House size in m²')\n",
        "\n",
        "# y-axis label\n",
        "plt.ylabel('Price in $')\n",
        "\n",
        "# Turning on the legend\n",
        "plt.legend()\n",
        "\n",
        "# Showing the plot\n",
        "plt.show()"
      ],
      "execution_count": null,
      "outputs": [
        {
          "output_type": "display_data",
          "data": {
            "image/png": "[encoded data removed]",
            "text/plain": [
              "<Figure size 432x288 with 1 Axes>"
            ]
          },
          "metadata": {
            "tags": [],
            "needs_background": "light"
          }
        }
      ]
    },
    {
      "cell_type": "markdown",
      "metadata": {
        "id": "7FzYjGoM_33g"
      },
      "source": [
        "Seems good, doesn't it? But in Math, appearances have no place, we have to demonstrate what we want to convey. So, we need means to calculate how good our approximation is. There are many methods one can use, let's try two of them: the *Root Mean Squared Error* (RMSE) and the *Coefficient of Determination* (R²).\n",
        "\n",
        "Let's try the RMSE first. It is given by this formula:\n",
        "\n",
        "$$ RMSE = \\sqrt{\\frac{1}{n}\\sum_{j=1}^{n}{(y_j-\\hat{y}_j)^2}} $$\n",
        "\n",
        "In this formula, $\\hat{y}_j$ is the j-th predicted value. In other words, we just take an $x$ value from our observations and calculate the predictions using the parameters we found. Then, we plug this estimation with the corresponding observed $y$ value in the RMSE formula. Let's do this."
      ]
    },
    {
      "cell_type": "code",
      "metadata": {
        "id": "nM5DZl8mB1vX",
        "colab": {
          "base_uri": "https://localhost:8080/"
        },
        "outputId": "feb2cebb-60cc-4796-fb2d-08349a22f52e"
      },
      "source": [
        "# Let's generate a vector with\n",
        "# the predicted values, according\n",
        "# to our model\n",
        "Y_pred = theta_0 + theta_1 * X\n",
        "\n",
        "# Now, let's calculate the RMSE\n",
        "# in two steps, first the summation\n",
        "rmse = np.sum((Y - Y_pred)**2)\n",
        "\n",
        "# And second, the mean and the square root\n",
        "rmse = np.sqrt(rmse/n)\n",
        "\n",
        "print('RMSE: ', round(rmse, 2))"
      ],
      "execution_count": null,
      "outputs": [
        {
          "output_type": "stream",
          "text": [
            "RMSE:  6400.48\n"
          ],
          "name": "stdout"
        }
      ]
    },
    {
      "cell_type": "markdown",
      "metadata": {
        "id": "aoR9omOVCPry"
      },
      "source": [
        "Now, let's find the R² score of our model, which is given by the formula below:\n",
        "\n",
        "$$ R^2 = 1 - \\frac{SSR}{SST} = 1 -\\frac{\\sum{(y_i-\\hat{y})^2}}{\\sum{(y_i - \\bar{y})^2}} $$\n",
        "\n",
        "Here, SSR is the total sum of square residuals and SST is the total sum of squares. The residuals are given by the difference between the observed values and the predicted values and the total sum of squares are the difference between the observed values and its mean. Let's see how good our model did:"
      ]
    },
    {
      "cell_type": "code",
      "metadata": {
        "id": "RK0L_99PCo-Y",
        "colab": {
          "base_uri": "https://localhost:8080/"
        },
        "outputId": "dc9401d1-1167-43c6-f670-55c21e36203d"
      },
      "source": [
        "# Let's calculate the SSR first\n",
        "ssr = np.sum((Y - Y_pred)**2)\n",
        "\n",
        "# And now the SST\n",
        "sst = np.sum((Y - y_mean)**2)\n",
        "\n",
        "# Now, we can find the R² score\n",
        "r2  = 1 - (ssr/sst)\n",
        "print('R² score: ', round(r2, 3))"
      ],
      "execution_count": null,
      "outputs": [
        {
          "output_type": "stream",
          "text": [
            "R² score:  0.825\n"
          ],
          "name": "stdout"
        }
      ]
    },
    {
      "cell_type": "markdown",
      "metadata": {
        "id": "wniHy4XtPbnn"
      },
      "source": [
        "The R² score usually ranges from 0 to 1, with 1 being a perfect match (the predicted values are equal to the observed values). It can also become negative, if the model is completely wrong. Our model gets a score value of 0.825, so not bad. We could try to improve our model by getting more data points, improving features or fitting more models."
      ]
    },
    {
      "cell_type": "markdown",
      "metadata": {
        "id": "o9-W4W4YS8Cx"
      },
      "source": [
        "### Gradient Descent\n",
        "\n",
        "Let's now see how to implement the Gradient Descent method for the univariate linear regression. Firstly, let's remember how to formulate the problem. In the GD we are minimizing the cost function $J(\\theta)$, that is the squared error between an observed value $y_i$ and its prediction (or hypothesis) $h_\\theta(x)$:\n",
        "\n",
        "$$ J(\\theta) = \\frac{1}{2n}\\sum_{j=1}^{n}(h_\\theta(x_j) - y_j)^2 $$\n",
        "\n",
        "To perform the GD, we take an initial guess for the values of $\\theta$ and then update the values using the partial derivative of the cost function:\n",
        "\n",
        "$$ \\theta_0 = \\theta_0 - \\alpha[\\frac{1}{n}\\sum_{j=1}^{n}{h_\\theta(x_j) - y_j)]} $$\n",
        "\n",
        "$$ \\theta_1 = \\theta_1 - \\alpha[\\frac{1}{n}\\sum_{j=1}^{n}{(h_\\theta(x_j) - y_j)x_{i,j}]} $$\n",
        "\n",
        "Where $\\alpha$ is the learning rate. We repeat this update for each $\\theta$ parameter **simultaneously** until convergence. Let's now see how it works in Python.\n",
        "\n",
        "Let's start by defining a function to calculate the cost function $J(\\theta)$, given X, Y and $theta$, also as a vector:"
      ]
    },
    {
      "cell_type": "code",
      "metadata": {
        "id": "suxMpX4d5jbn"
      },
      "source": [
        "# Let's define a function for the cost function, so we can store its progress to\n",
        "# visualize if the GD is working properly.\n",
        "def cost_function(X, Y, theta):\n",
        "  n = len(X)\n",
        "  J = 1/(2*n) * np.sum((theta[0] + theta[1] * X - Y) ** 2)\n",
        "  return J"
      ],
      "execution_count": null,
      "outputs": []
    },
    {
      "cell_type": "markdown",
      "metadata": {
        "id": "V_THNX_b5qUj"
      },
      "source": [
        "Now, we read X and Y vectors from our database again, just to guarantee that we are using the correct values. We save the number of observations in the variable *n*. We must also guess a initial value for $\\theta_0$ and $\\theta_1$, for example (0,0). Let's put them into an array, to facilitate the operations.\n",
        "\n",
        "We will also apply mean normalization to the X vector, so the GD will converge faster. Just to remember, mean normalization is applyied according to this formula:\n",
        "\n",
        "$$ x_{normalized} = \\frac{x - \\mu[x]}{\\sigma[x]} $$\n",
        "\n",
        "Where $\\mu[x]$ is the mean and $\\sigma[x]$ is the standard deviation of the X values. We must save these values, because the gradient will be affected by this normalization, so we need to apply the same scaling to new data when we are doing predictions."
      ]
    },
    {
      "cell_type": "code",
      "metadata": {
        "id": "W4Aocpwf6Yko"
      },
      "source": [
        "# Reading x values from the dataset.\n",
        "X = house_prices[\"Size\"].values\n",
        "\n",
        "# Let's apply feature scaling and mean normalization, to help the\n",
        "# Gradient descent to converge faster.\n",
        "x_mean = X.mean()\n",
        "x_std = X.std()\n",
        "X = (X - x_mean)/x_std\n",
        "\n",
        "# Reading y values from the dataset.\n",
        "Y = house_prices[\"Price\"].values\n",
        "\n",
        "# Determining the number of observations.\n",
        "n = len(X)\n",
        "\n",
        "# Theta values insida an array.\n",
        "theta = np.array([0,0])"
      ],
      "execution_count": null,
      "outputs": []
    },
    {
      "cell_type": "markdown",
      "metadata": {
        "id": "QMrn4ULh6rZn"
      },
      "source": [
        "Now, we determine the hyperparameters for the GD algorithm. The version we'll be using is the Batch Gradient Descent. In this version, we calculate the total error for all the samples in the training set before updating the values of $\\theta$. Thus, we can take advantage of the Numpy's vectorized operations.\n",
        "\n",
        "We have to define the learning rate $\\alpha$ and a convergence criterion. We can use the difference between the cost function and the squared error as our convergence criterion. If it is lesser than a estipulated value, we consider that the result is sufficiently close to the global minimum to stop the iterations. Let's call this value $\\eta$. We can also determine a max number of iterations to stop the algorithm, if we still have not reached convergence."
      ]
    },
    {
      "cell_type": "code",
      "metadata": {
        "id": "eV_a67fv9K_y"
      },
      "source": [
        "# Let's first declare the learning rate.\n",
        "alpha = 0.01\n",
        "\n",
        "# Convergence criteria. We stop the algorithm if the difference between the cost and squared\n",
        "# error is smaller than eta or we reach the maximum number of iterations.\n",
        "eta = 0.001\n",
        "max_iter = 10000"
      ],
      "execution_count": null,
      "outputs": []
    },
    {
      "cell_type": "markdown",
      "metadata": {
        "id": "czI0rL10-ghq"
      },
      "source": [
        "Now, we define the BGD function, that will receive the X, Y, and $\\theta$ vectors, as well as the hyperparameters."
      ]
    },
    {
      "cell_type": "code",
      "metadata": {
        "id": "CQkgmySn5A3c"
      },
      "source": [
        "# Batch Gradient Descente function.\n",
        "def BGD(X, Y, theta, alpha=0.01, eta=0.001, max_iter=10000):\n",
        "  # First iteration\n",
        "  i = 0\n",
        "  # Initializing the convergence criterion to the actual\n",
        "  # error.\n",
        "  eta_i = np.inf\n",
        "  # Let's store the progress, so we can visualize it later.\n",
        "  cost_history = []\n",
        "  while eta_i >= eta and i < max_iter:\n",
        "    # Let's start calculating the predictions for the actual\n",
        "    # values of theta\n",
        "    Y_pred = theta[0] + theta[1]*X\n",
        "    # Now, we calculate the loss, that is, the difference between predicted and\n",
        "    # actual values, which is what we want to minimize.\n",
        "    loss = Y_pred - Y\n",
        "    # Calculating the gradient for each theta.\n",
        "    grad_0 = 1/n * np.sum((theta[0] + theta[1] * X) - Y) # Gradient for theta_0\n",
        "    grad_1 = 1/n * np.sum(X*((theta[0] + theta[1] * X) - Y)) # Gradient for theta_1\n",
        "    # Changing Values of theta using the gradients\n",
        "    theta[0] = theta[0] - alpha * grad_0\n",
        "    theta[1] = theta[1] - alpha * grad_1\n",
        "    # New Cost Value\n",
        "    cost = cost_function(X, Y, theta)\n",
        "    cost_history.append(cost)\n",
        "    eta_i = cost_history[i-1] - cost_history[i] if i > 0 else eta_i\n",
        "    i += 1\n",
        "  return (theta, cost_history)"
      ],
      "execution_count": null,
      "outputs": []
    },
    {
      "cell_type": "markdown",
      "metadata": {
        "id": "jXHNi7AK4Wxu"
      },
      "source": [
        "Now, we can run the BGD function and get the values for $\\theta$:"
      ]
    },
    {
      "cell_type": "code",
      "metadata": {
        "id": "LSH8muvv4U9t",
        "colab": {
          "base_uri": "https://localhost:8080/",
          "height": 326
        },
        "outputId": "71582450-ac51-4e02-c8c8-c2a90b0e1d2b"
      },
      "source": [
        "theta, cost_history = BGD(X, Y, theta, alpha, eta, max_iter)\n",
        "\n",
        "print(f'theta_0: {theta[0]}')\n",
        "print(f'theta_1: {theta[1]}')\n",
        "\n",
        "# Let's plot our cost history to see the GD progress and to see\n",
        "# if it is working properly.\n",
        "plt.plot(range(len(cost_history)),cost_history)\n",
        "plt.xlabel('Iterations')\n",
        "plt.ylabel('Cost function')\n",
        "plt.show()"
      ],
      "execution_count": null,
      "outputs": [
        {
          "output_type": "stream",
          "text": [
            "theta_0: 80831\n",
            "theta_1: 13811\n"
          ],
          "name": "stdout"
        },
        {
          "output_type": "display_data",
          "data": {
            "image/png": "[encoded data removed]",
            "text/plain": [
              "<Figure size 432x288 with 1 Axes>"
            ]
          },
          "metadata": {
            "tags": [],
            "needs_background": "light"
          }
        }
      ]
    },
    {
      "cell_type": "markdown",
      "metadata": {
        "id": "5r3VyFmP_H3O"
      },
      "source": [
        "Now, let's plot again the points and our prediction. Remember, as we scaled our data in the prediction, we have to scale our predictions the same way, so remember to save the mean and the standard deviation used in the GD."
      ]
    },
    {
      "cell_type": "code",
      "metadata": {
        "id": "0m3iLQXk_Rf5",
        "colab": {
          "base_uri": "https://localhost:8080/",
          "height": 297
        },
        "outputId": "911220df-4fdb-4722-ec60-b7f532e3cebf"
      },
      "source": [
        "# Here we are picking the colormap in use\n",
        "# to be able to choose colors more easily\n",
        "cycle = plt.rcParams['axes.prop_cycle'].by_key()['color']\n",
        "\n",
        "# Reading and scaling the X values.\n",
        "X = house_prices.Size.values\n",
        "x_mean = X.mean()\n",
        "x_std = X.std()\n",
        "X = (X - x_mean)/x_std\n",
        "Y = house_prices.Price.values\n",
        "\n",
        "# Calculating line values of x and y.\n",
        "# First, let's take the minimum and maximum\n",
        "# values of x and the min of y to format the\n",
        "# plottint area.\n",
        "x_min = np.min(X)\n",
        "x_max = np.max(X)\n",
        "y_min = np.min(Y)\n",
        "\n",
        "# Now we generate a interval between the\n",
        "# min and max values of x, with 1000 points\n",
        "x = np.linspace(x_min, x_max, 1000)\n",
        "y = theta[0] + theta[1] * x\n",
        "\n",
        "# Starting the figure\n",
        "plt.figure()\n",
        "\n",
        "# Plotting the line corresponding to our model\n",
        "plt.plot(x, y, color=cycle[1], label='Linear Regression')\n",
        "\n",
        "# Plotting the observations in our dataset\n",
        "plt.scatter(X, Y, label='Price')\n",
        "\n",
        "# Now adding lines showing our predicted\n",
        "# price for a house with 155 m², but now\n",
        "# scaling it the same as in the training.\n",
        "x_new = (155 - x_mean)/x_std\n",
        "y_new = theta[0] + theta[1] * x_new\n",
        "print(f'Price for a {x_new * x_std + x_mean} m² house: $ {round(y_new,2)}')\n",
        "\n",
        "plt.vlines(x_new, y_min, y_new, color=cycle[2], linestyle=\"dashed\")\n",
        "plt.hlines(y_new, x_min, x_new, color=cycle[2], linestyle=\"dashed\")\n",
        "\n",
        "# x-axis label\n",
        "plt.xlabel('House size in m²')\n",
        "\n",
        "# y-axis label\n",
        "plt.ylabel('Price in $')\n",
        "\n",
        "# Turning on the legend\n",
        "plt.legend()\n",
        "\n",
        "# Showing the plot\n",
        "plt.show()"
      ],
      "execution_count": null,
      "outputs": [
        {
          "output_type": "stream",
          "text": [
            "Price for a 155.0 m² house: $ 84735.35\n"
          ],
          "name": "stdout"
        },
        {
          "output_type": "display_data",
          "data": {
            "image/png": "[encoded data removed]",
            "text/plain": [
              "<Figure size 432x288 with 1 Axes>"
            ]
          },
          "metadata": {
            "tags": [],
            "needs_background": "light"
          }
        }
      ]
    },
    {
      "cell_type": "markdown",
      "metadata": {
        "id": "SQkQQ9P_MJY5"
      },
      "source": [
        "## Multivariate Linear Regression\n",
        "\n",
        "As we already know, in the multivariate linear regression we have multiple independent variables, instead of just one. Let's imagine a case where whe have two variables, $x_1$ and $x_2$. The hypothesis function for this problem will be:\n",
        "\n",
        "$$ h_\\theta(x) = \\theta_0 + \\theta_1 x_1 + \\theta_2 x_2 $$\n",
        "\n",
        "Now, as we have many variables for each observation, the $X$ vector becomes now a $n\\times m$ matrix, with $n$ lines for each observation and $m$ columns, for each independent variable (2, in this case). It will look like this:\n",
        "\n",
        "$$ X =\n",
        "\\begin{bmatrix}\n",
        "x_{0,1} & x_{0,2} \\\\\n",
        "x_{1,1} & x_{1,2} \\\\\n",
        "\\vdots & \\vdots \\\\\n",
        "x_{n,1} & x_{n,2}\n",
        "\\end{bmatrix}\n",
        "$$\n",
        "\n",
        "Similarly, the $\\theta$ parameters will now increase to $m + 1$, one for each variable plus the bias factor ($\\theta_0$). So, the $\\theta$ vector becomes like this for our case with $m=2$:\n",
        "\n",
        "$$ \\theta =\n",
        "\\begin{bmatrix}\n",
        "\\theta_0 \\\\\n",
        "\\theta_1 \\\\\n",
        "\\theta_2 \\\\\n",
        "\\end{bmatrix}\n",
        "$$\n",
        "\n",
        "Now the things will start to get interesting. Do you remember how matrix multiplication works? If we are multiplying $M\\cdot N$, where $M$ and $N$ are matrices, we take each line of $M$ and multiply it element-wise by each column of $N$, then sum the results, with the restriction that if $M$ has $m\\times n$ dimensions, the multiplication is possible if, and only if, $N$ has $n \\times k$ dimensions and the resulting matrix will have $m\\times k$ dimensions.\n",
        "\n",
        "Now, look again at the $X$ matrix and the $\\theta$ vector. What happens if we try to multiply them? It will fail, because $X$ dimension is $n\\times 2$ and $\\theta$ is $3\\times 1$.\n",
        "\n",
        "Now, look at hypothesis equation again, particularly at the $\\theta_0$ parameter. It does not have a companion $x$ like the other parameters. Except it has! There is a \"virtual\" $x_0$ variable there, with value equal to 1. Note that multiplying $\\theta_0$ by 1, does not alter its value, so we continue to add $\\theta_0$'s value. That's why the \"$x_0$\" parameter is omitted. Therefore, we can apply a little trick to be able to perform the $X\\cdot \\theta$ multiplication. We just add a column for $x_0$, with 1 for all the lines:\n",
        "\n",
        "$$ X =\n",
        "\\begin{bmatrix}\n",
        "1 & x_{0,1} & x_{0,2} \\\\\n",
        "1 & x_{1,1} & x_{1,2} \\\\\n",
        "1 & x_{...,1} & x_{...,2} \\\\\n",
        "1 & x_{n,1} & x_{n,2}\n",
        "\\end{bmatrix}\n",
        "$$\n",
        "\n",
        "Now, $X$ dimension becomes $n\\times 3$ and we can multiply it by $\\theta$, that is $3\\times 1$. Let's now multiply them and see what is the result:\n",
        "\n",
        "$$\n",
        "\\begin{bmatrix}\n",
        "1 & x_{0,1} & x_{0,2} \\\\\n",
        "1 & x_{1,1} & x_{1,2} \\\\\n",
        "1 & x_{\\dots,1} & x_{...,2} \\\\\n",
        "1 & x_{n,1} & x_{n,2}\n",
        "\\end{bmatrix} \\cdot\n",
        "\\begin{bmatrix}\n",
        "\\theta_0 \\\\\n",
        "\\theta_1 \\\\\n",
        "\\theta_2\n",
        "\\end{bmatrix} =\n",
        "\\begin{bmatrix}\n",
        "1\\theta_0 + \\theta_1 x_{0,1} + \\theta_2 x_{0,2}\\\\\n",
        "1\\theta_0 + \\theta_1 x_{1,1} + \\theta_2 x_{0,2}\\\\\n",
        "1\\theta_0 + \\theta_1 x_{\\dots,1} + \\theta_2 x_{\\dots,2}\\\\\n",
        "1\\theta_0 + \\theta_1 x_{n,1} + \\theta_2 x_{n,2}\\\\\n",
        "\\end{bmatrix}\n",
        "$$\n",
        "\n",
        "Look at the resulting vector. Looks familiar? Yes, you guessed correctly. Each line has the hypothesis function for each observation! So, the result of multiplying the $X$ matrix with the $\\theta$ vector is the $\\hat{Y}$ vector, with the predictions for each observation. We use the 'hat' to denote that $\\hat{Y}$ is the prediction vector, calculated from the $X$ observations and the $\\theta$ parameters, while the $Y$ vector is the real values collected in the dataset. Neat!\n",
        "\n",
        "Imagine if we had an operation that takes a matrix and a vector, and outputs a vector with the sum of the product of each matrix line by each vector element... We could calculate all observations at once! Imagine no more, just remember the definition of the dot product of two n-dimensional vectors:\n",
        "\n",
        "$$ \\vec{a} \\cdot \\vec{b} = \\sum_{i=1}^n{(a_i \\times b_i)}$$\n",
        "\n",
        "If we consider each line of the $X$ matrix as a vector, then we just have to calculate a dot product between $X$ and $\\theta$ to have a prediction vector. Fortunately, Numpy has a dot operation! Let's see how it works.\n",
        "\n",
        "Let's load $X$ with the first five lines of our dataset and exclude the first column, that is the Price ($Y$ values). Using Pandas, it is as simple as it gets."
      ]
    },
    {
      "cell_type": "code",
      "metadata": {
        "id": "mDiQqsNMP-aH",
        "colab": {
          "base_uri": "https://localhost:8080/"
        },
        "outputId": "c5d13faf-cf0c-42fe-e488-d47cf8fc47bf"
      },
      "source": [
        "X = house_prices.head().loc[:,'Size':].values\n",
        "print('X before concatenating:\\n', X)"
      ],
      "execution_count": null,
      "outputs": [
        {
          "output_type": "stream",
          "text": [
            "X before concatenating:\n",
            " [[100   2   2]\n",
            " [ 95   1   1]\n",
            " [108   1   2]\n",
            " [134   1   1]\n",
            " [124   2   1]]\n"
          ],
          "name": "stdout"
        }
      ]
    },
    {
      "cell_type": "markdown",
      "metadata": {
        "id": "6pLHCpGimf7Z"
      },
      "source": [
        "Now, we have to append the $x_0$ column. We can use Numpy's `.c_` class, that is a alias for the concatenate function. We generate a vector of ones, with the same length of X and concatenate it."
      ]
    },
    {
      "cell_type": "code",
      "metadata": {
        "id": "JjiGY51Ymw2E",
        "colab": {
          "base_uri": "https://localhost:8080/"
        },
        "outputId": "8cf3b8cd-4ff6-4854-df46-f38eb98ae54a"
      },
      "source": [
        "X = np.hstack([np.ones((len(X),1)), X])\n",
        "print('X after concatenating:\\n',X)"
      ],
      "execution_count": null,
      "outputs": [
        {
          "output_type": "stream",
          "text": [
            "X after concatenating:\n",
            " [[  1. 100.   2.   2.]\n",
            " [  1.  95.   1.   1.]\n",
            " [  1. 108.   1.   2.]\n",
            " [  1. 134.   1.   1.]\n",
            " [  1. 124.   2.   1.]]\n"
          ],
          "name": "stdout"
        }
      ]
    },
    {
      "cell_type": "markdown",
      "metadata": {
        "id": "gjWjpi3Bm0UA"
      },
      "source": [
        "Now, let's define a $\\theta$ vector, with all values equal to 2, just to demonstrate the dot operation. It'll have for values, one for each variable plus $\\theta_0$."
      ]
    },
    {
      "cell_type": "code",
      "metadata": {
        "id": "wJj9kaZ0nClv",
        "colab": {
          "base_uri": "https://localhost:8080/"
        },
        "outputId": "93658b56-a975-43e1-a85f-5fc9b7d39359"
      },
      "source": [
        "theta = np.full((4,1), 2)\n",
        "print('theta: \\n',theta)"
      ],
      "execution_count": null,
      "outputs": [
        {
          "output_type": "stream",
          "text": [
            "theta: \n",
            " [[2]\n",
            " [2]\n",
            " [2]\n",
            " [2]]\n"
          ],
          "name": "stdout"
        }
      ]
    },
    {
      "cell_type": "markdown",
      "metadata": {
        "id": "XShQ4eKEnGOi"
      },
      "source": [
        "Now, let's calculate the predictions for these values of $\\theta$ using the dot product. There are two ways of doing it. This way:"
      ]
    },
    {
      "cell_type": "code",
      "metadata": {
        "id": "8ukpJ5JBxLPs",
        "colab": {
          "base_uri": "https://localhost:8080/"
        },
        "outputId": "806f968a-7d10-4352-9080-35c4a05b5631"
      },
      "source": [
        "Y_pred =  np.dot(X, theta)\n",
        "print('Predictions: \\n', Y_pred)"
      ],
      "execution_count": null,
      "outputs": [
        {
          "output_type": "stream",
          "text": [
            "Predictions: \n",
            " [[210.]\n",
            " [196.]\n",
            " [224.]\n",
            " [274.]\n",
            " [256.]]\n"
          ],
          "name": "stdout"
        }
      ]
    },
    {
      "cell_type": "markdown",
      "metadata": {
        "id": "DlJgu8ywxOpD"
      },
      "source": [
        "Or this way:"
      ]
    },
    {
      "cell_type": "code",
      "metadata": {
        "id": "9cjg3tnCxQtP",
        "colab": {
          "base_uri": "https://localhost:8080/"
        },
        "outputId": "b674f0fd-2281-4289-af37-f35e8d17039d"
      },
      "source": [
        "Y_pred = X.dot(theta)\n",
        "print('Predicions: \\n', Y_pred)"
      ],
      "execution_count": null,
      "outputs": [
        {
          "output_type": "stream",
          "text": [
            "Predicions: \n",
            " [[210.]\n",
            " [196.]\n",
            " [224.]\n",
            " [274.]\n",
            " [256.]]\n"
          ],
          "name": "stdout"
        }
      ]
    },
    {
      "cell_type": "markdown",
      "metadata": {
        "id": "-jCFc3y6xnGt"
      },
      "source": [
        "Now you can substitute the vector operations with matrix operations to apply the algorithms to the multivariate case. Note that Numpy represents vectors as line vectors, instead of column vectors, but that is just a convention that does not affects the calculation."
      ]
    },
    {
      "cell_type": "markdown",
      "metadata": {
        "id": "RESO-he3x9kv"
      },
      "source": [
        "# Exercise"
      ]
    },
    {
      "cell_type": "markdown",
      "metadata": {
        "id": "A1kxD-tnKWb_"
      },
      "source": [
        "##1. Multivariate model for house prices\n",
        "\n",
        "Fun time! Now it is your time to have some fun with this data! Read the Section 2.2 of your Study Guide and try to build a multivariate linear model, to predict house prices not only by its size, by also by their number of chambers and parking space. Remember to apply data scaling to adjust the range of your observations, as well as determining the R² score and the RMSE for your model. You can extend this notebook to perform your calculations."
      ]
    },
    {
      "cell_type": "code",
      "metadata": {
        "id": "H13tKt8HvlNm"
      },
      "source": [
        "# Start your exercise here. You can add as many cells as needed.\n",
        "# This command sets up the plots to be done inline\n",
        "%matplotlib inline\n",
        "import numpy as np # Python's numeric and linear algebra lib\n",
        "import random # Randomization lib\n",
        "import pandas as pd # Data manipulation and statistical analysis\n",
        "import matplotlib.pyplot as plt # The versatile plotting lib"
      ],
      "execution_count": null,
      "outputs": []
    },
    {
      "cell_type": "code",
      "metadata": {
        "id": "K-e3oCwErpiJ",
        "colab": {
          "base_uri": "https://localhost:8080/",
          "height": 694
        },
        "outputId": "02e43756-36e4-4548-b4be-08ce4a012815"
      },
      "source": [
        "from google.colab import drive\n",
        "drive.mount('/content/drive')\n",
        "# Change the path to your own file, after uploading it to your Google Drive\n",
        "house_prices = pd.read_csv(\"/content/drive/My Drive/Classroom/Machine Learning GEN-VG.ING.2021 2/Marvellous Solomon - house_prices.csv\")\n",
        "house_prices"
      ],
      "execution_count": null,
      "outputs": [
        {
          "output_type": "stream",
          "name": "stdout",
          "text": [
            "Mounted at /content/drive\n"
          ]
        },
        {
          "output_type": "execute_result",
          "data": {
            "text/plain": [
              "     Price  Size  Chambers  Parking space\n",
              "0    60000   100         2              2\n",
              "1    60000    95         1              1\n",
              "2    62500   108         1              2\n",
              "3    63000   134         1              1\n",
              "4    69000   124         2              1\n",
              "5    70000   135         1              1\n",
              "6    70000   110         1              1\n",
              "7    72600   128         2              1\n",
              "8    72600   141         1              1\n",
              "9    78000   138         2              1\n",
              "10   81500   152         2              1\n",
              "11   82000   170         1              2\n",
              "12   85000   168         3              2\n",
              "13   88000   174         1              1\n",
              "14   92000   176         2              2\n",
              "15   96400   180         3              1\n",
              "16  100000   175         2              1\n",
              "17  100700   165         2              1\n",
              "18  105300   170         2              1\n",
              "19  110000   194         1              1"
            ],
            "text/html": [
              "\n",
              "  <div id=\"df-39a520f4-48fb-452b-9ec7-a36688873203\">\n",
              "    <div class=\"colab-df-container\">\n",
              "      <div>\n",
              "<style scoped>\n",
              "    .dataframe tbody tr th:only-of-type {\n",
              "        vertical-align: middle;\n",
              "    }\n",
              "\n",
              "    .dataframe tbody tr th {\n",
              "        vertical-align: top;\n",
              "    }\n",
              "\n",
              "    .dataframe thead th {\n",
              "        text-align: right;\n",
              "    }\n",
              "</style>\n",
              "<table border=\"1\" class=\"dataframe\">\n",
              "  <thead>\n",
              "    <tr style=\"text-align: right;\">\n",
              "      <th></th>\n",
              "      <th>Price</th>\n",
              "      <th>Size</th>\n",
              "      <th>Chambers</th>\n",
              "      <th>Parking space</th>\n",
              "    </tr>\n",
              "  </thead>\n",
              "  <tbody>\n",
              "    <tr>\n",
              "      <th>0</th>\n",
              "      <td>60000</td>\n",
              "      <td>100</td>\n",
              "      <td>2</td>\n",
              "      <td>2</td>\n",
              "    </tr>\n",
              "    <tr>\n",
              "      <th>1</th>\n",
              "      <td>60000</td>\n",
              "      <td>95</td>\n",
              "      <td>1</td>\n",
              "      <td>1</td>\n",
              "    </tr>\n",
              "    <tr>\n",
              "      <th>2</th>\n",
              "      <td>62500</td>\n",
              "      <td>108</td>\n",
              "      <td>1</td>\n",
              "      <td>2</td>\n",
              "    </tr>\n",
              "    <tr>\n",
              "      <th>3</th>\n",
              "      <td>63000</td>\n",
              "      <td>134</td>\n",
              "      <td>1</td>\n",
              "      <td>1</td>\n",
              "    </tr>\n",
              "    <tr>\n",
              "      <th>4</th>\n",
              "      <td>69000</td>\n",
              "      <td>124</td>\n",
              "      <td>2</td>\n",
              "      <td>1</td>\n",
              "    </tr>\n",
              "    <tr>\n",
              "      <th>5</th>\n",
              "      <td>70000</td>\n",
              "      <td>135</td>\n",
              "      <td>1</td>\n",
              "      <td>1</td>\n",
              "    </tr>\n",
              "    <tr>\n",
              "      <th>6</th>\n",
              "      <td>70000</td>\n",
              "      <td>110</td>\n",
              "      <td>1</td>\n",
              "      <td>1</td>\n",
              "    </tr>\n",
              "    <tr>\n",
              "      <th>7</th>\n",
              "      <td>72600</td>\n",
              "      <td>128</td>\n",
              "      <td>2</td>\n",
              "      <td>1</td>\n",
              "    </tr>\n",
              "    <tr>\n",
              "      <th>8</th>\n",
              "      <td>72600</td>\n",
              "      <td>141</td>\n",
              "      <td>1</td>\n",
              "      <td>1</td>\n",
              "    </tr>\n",
              "    <tr>\n",
              "      <th>9</th>\n",
              "      <td>78000</td>\n",
              "      <td>138</td>\n",
              "      <td>2</td>\n",
              "      <td>1</td>\n",
              "    </tr>\n",
              "    <tr>\n",
              "      <th>10</th>\n",
              "      <td>81500</td>\n",
              "      <td>152</td>\n",
              "      <td>2</td>\n",
              "      <td>1</td>\n",
              "    </tr>\n",
              "    <tr>\n",
              "      <th>11</th>\n",
              "      <td>82000</td>\n",
              "      <td>170</td>\n",
              "      <td>1</td>\n",
              "      <td>2</td>\n",
              "    </tr>\n",
              "    <tr>\n",
              "      <th>12</th>\n",
              "      <td>85000</td>\n",
              "      <td>168</td>\n",
              "      <td>3</td>\n",
              "      <td>2</td>\n",
              "    </tr>\n",
              "    <tr>\n",
              "      <th>13</th>\n",
              "      <td>88000</td>\n",
              "      <td>174</td>\n",
              "      <td>1</td>\n",
              "      <td>1</td>\n",
              "    </tr>\n",
              "    <tr>\n",
              "      <th>14</th>\n",
              "      <td>92000</td>\n",
              "      <td>176</td>\n",
              "      <td>2</td>\n",
              "      <td>2</td>\n",
              "    </tr>\n",
              "    <tr>\n",
              "      <th>15</th>\n",
              "      <td>96400</td>\n",
              "      <td>180</td>\n",
              "      <td>3</td>\n",
              "      <td>1</td>\n",
              "    </tr>\n",
              "    <tr>\n",
              "      <th>16</th>\n",
              "      <td>100000</td>\n",
              "      <td>175</td>\n",
              "      <td>2</td>\n",
              "      <td>1</td>\n",
              "    </tr>\n",
              "    <tr>\n",
              "      <th>17</th>\n",
              "      <td>100700</td>\n",
              "      <td>165</td>\n",
              "      <td>2</td>\n",
              "      <td>1</td>\n",
              "    </tr>\n",
              "    <tr>\n",
              "      <th>18</th>\n",
              "      <td>105300</td>\n",
              "      <td>170</td>\n",
              "      <td>2</td>\n",
              "      <td>1</td>\n",
              "    </tr>\n",
              "    <tr>\n",
              "      <th>19</th>\n",
              "      <td>110000</td>\n",
              "      <td>194</td>\n",
              "      <td>1</td>\n",
              "      <td>1</td>\n",
              "    </tr>\n",
              "  </tbody>\n",
              "</table>\n",
              "</div>\n",
              "      <button class=\"colab-df-convert\" onclick=\"convertToInteractive('df-39a520f4-48fb-452b-9ec7-a36688873203')\"\n",
              "              title=\"Convert this dataframe to an interactive table.\"\n",
              "              style=\"display:none;\">\n",
              "        \n",
              "  <svg xmlns=\"http://www.w3.org/2000/svg\" height=\"24px\"viewBox=\"0 0 24 24\"\n",
              "       width=\"24px\">\n",
              "    <path d=\"M0 0h24v24H0V0z\" fill=\"none\"/>\n",
              "    <path d=\"M18.56 5.44l.94 2.06.94-2.06 2.06-.94-2.06-.94-.94-2.06-.94 2.06-2.06.94zm-11 1L8.5 8.5l.94-2.06 2.06-.94-2.06-.94L8.5 2.5l-.94 2.06-2.06.94zm10 10l.94 2.06.94-2.06 2.06-.94-2.06-.94-.94-2.06-.94 2.06-2.06.94z\"/><path d=\"M17.41 7.96l-1.37-1.37c-.4-.4-.92-.59-1.43-.59-.52 0-1.04.2-1.43.59L10.3 9.45l-7.72 7.72c-.78.78-.78 2.05 0 2.83L4 21.41c.39.39.9.59 1.41.59.51 0 1.02-.2 1.41-.59l7.78-7.78 2.81-2.81c.8-.78.8-2.07 0-2.86zM5.41 20L4 18.59l7.72-7.72 1.47 1.35L5.41 20z\"/>\n",
              "  </svg>\n",
              "      </button>\n",
              "      \n",
              "  <style>\n",
              "    .colab-df-container {\n",
              "      display:flex;\n",
              "      flex-wrap:wrap;\n",
              "      gap: 12px;\n",
              "    }\n",
              "\n",
              "    .colab-df-convert {\n",
              "      background-color: #E8F0FE;\n",
              "      border: none;\n",
              "      border-radius: 50%;\n",
              "      cursor: pointer;\n",
              "      display: none;\n",
              "      fill: #1967D2;\n",
              "      height: 32px;\n",
              "      padding: 0 0 0 0;\n",
              "      width: 32px;\n",
              "    }\n",
              "\n",
              "    .colab-df-convert:hover {\n",
              "      background-color: #E2EBFA;\n",
              "      box-shadow: 0px 1px 2px rgba(60, 64, 67, 0.3), 0px 1px 3px 1px rgba(60, 64, 67, 0.15);\n",
              "      fill: #174EA6;\n",
              "    }\n",
              "\n",
              "    [theme=dark] .colab-df-convert {\n",
              "      background-color: #3B4455;\n",
              "      fill: #D2E3FC;\n",
              "    }\n",
              "\n",
              "    [theme=dark] .colab-df-convert:hover {\n",
              "      background-color: #434B5C;\n",
              "      box-shadow: 0px 1px 3px 1px rgba(0, 0, 0, 0.15);\n",
              "      filter: drop-shadow(0px 1px 2px rgba(0, 0, 0, 0.3));\n",
              "      fill: #FFFFFF;\n",
              "    }\n",
              "  </style>\n",
              "\n",
              "      <script>\n",
              "        const buttonEl =\n",
              "          document.querySelector('#df-39a520f4-48fb-452b-9ec7-a36688873203 button.colab-df-convert');\n",
              "        buttonEl.style.display =\n",
              "          google.colab.kernel.accessAllowed ? 'block' : 'none';\n",
              "\n",
              "        async function convertToInteractive(key) {\n",
              "          const element = document.querySelector('#df-39a520f4-48fb-452b-9ec7-a36688873203');\n",
              "          const dataTable =\n",
              "            await google.colab.kernel.invokeFunction('convertToInteractive',\n",
              "                                                     [key], {});\n",
              "          if (!dataTable) return;\n",
              "\n",
              "          const docLinkHtml = 'Like what you see? Visit the ' +\n",
              "            '<a target=\"_blank\" href=https://colab.research.google.com/notebooks/data_table.ipynb>data table notebook</a>'\n",
              "            + ' to learn more about interactive tables.';\n",
              "          element.innerHTML = '';\n",
              "          dataTable['output_type'] = 'display_data';\n",
              "          await google.colab.output.renderOutput(dataTable, element);\n",
              "          const docLink = document.createElement('div');\n",
              "          docLink.innerHTML = docLinkHtml;\n",
              "          element.appendChild(docLink);\n",
              "        }\n",
              "      </script>\n",
              "    </div>\n",
              "  </div>\n",
              "  "
            ]
          },
          "metadata": {},
          "execution_count": 4
        }
      ]
    },
    {
      "cell_type": "code",
      "source": [
        "X = house_prices[\"Size\"].values\n",
        "Y = house_prices[\"Price\"].values\n",
        "D = house_prices[\"Chambers\"].values\n",
        "E = house_prices[\"Parking space\"].values\n",
        "\n",
        "print('Dimensions of X: ', X.shape)\n",
        "print('Dimensions of Y: ', Y.shape)\n",
        "print('Dimensions of D: ', D.shape)\n",
        "print('Dimensions of E: ', E.shape)"
      ],
      "metadata": {
        "colab": {
          "base_uri": "https://localhost:8080/"
        },
        "id": "kzmODYkJbmep",
        "outputId": "80fc2935-a7f9-4fd8-854a-42579c9b8698"
      },
      "execution_count": null,
      "outputs": [
        {
          "output_type": "stream",
          "name": "stdout",
          "text": [
            "Dimensions of X:  (20,)\n",
            "Dimensions of Y:  (20,)\n",
            "Dimensions of D:  (20,)\n",
            "Dimensions of E:  (20,)\n"
          ]
        }
      ]
    },
    {
      "cell_type": "code",
      "source": [
        "# Let's define a function for the cost function, so we can store its progress to\n",
        "# visualize if the GD is working properly.\n",
        "def cost_function(X, Y, D, E, theta):\n",
        "  n = len(X)\n",
        "  J = 1/(2*n) * np.sum((theta[0] + theta[1] * X + theta[2] * D + theta[3] * E - Y) ** 2)\n",
        "  return J"
      ],
      "metadata": {
        "id": "ob7tv7ltlYHH"
      },
      "execution_count": null,
      "outputs": []
    },
    {
      "cell_type": "code",
      "source": [
        "# Reading x values from the dataset.\n",
        "X = house_prices[\"Size\"].values\n",
        "D = house_prices[\"Chambers\"].values\n",
        "E = house_prices[\"Parking space\"].values\n",
        "\n",
        "# Let's apply feature scaling and mean normalization, to help the\n",
        "# Gradient descent to converge faster.\n",
        "x_mean = X.mean()\n",
        "x_std = X.std()\n",
        "X = (X - x_mean)/x_std\n",
        "\n",
        "d_mean = D.mean()\n",
        "d_std = D.std()\n",
        "D = (D - d_mean)/d_std\n",
        "\n",
        "e_mean = E.mean()\n",
        "e_std = E.std()\n",
        "E = (E - e_mean)/e_std\n",
        "# Reading y values from the dataset.\n",
        "Y = house_prices[\"Price\"].values\n",
        "\n",
        "# Determining the number of observations.\n",
        "n = len(X)\n",
        "\n",
        "# Theta values insida an array.\n",
        "theta = np.array([0,0,0,0])"
      ],
      "metadata": {
        "id": "iHKtEOwL5r_A"
      },
      "execution_count": null,
      "outputs": []
    },
    {
      "cell_type": "code",
      "source": [
        "# Let's first declare the learning rate.\n",
        "alpha = 0.01\n",
        "\n",
        "# Convergence criteria. We stop the algorithm if the difference between the cost and squared\n",
        "# error is smaller than eta or we reach the maximum number of iterations.\n",
        "eta = 0.001\n",
        "max_iter = 10000"
      ],
      "metadata": {
        "id": "X8UKAh4u6pFD"
      },
      "execution_count": null,
      "outputs": []
    },
    {
      "cell_type": "code",
      "source": [
        "# Batch Gradient Descent function.\n",
        "def BGD(X, Y, D, E, theta, alpha=0.01, eta=0.001, max_iter=10000):\n",
        "  # First iteration\n",
        "  i = 0\n",
        "  # Initializing the convergence criterion to the actual\n",
        "  # error.\n",
        "  eta_i = np.inf\n",
        "  # Let's store the progress, so we can visualize it later.\n",
        "  cost_history = []\n",
        "  while eta_i >= eta and i < max_iter:\n",
        "    # Let's start calculating the predictions for the actual\n",
        "    # values of theta\n",
        "    Y_pred = theta[0] + theta[1]*X + theta[2]*D + theta[3]*E\n",
        "    # Now, we calculate the loss, that is, the difference between predicted and\n",
        "    # actual values, which is what we want to minimize.\n",
        "    loss = Y_pred - Y\n",
        "    # Calculating the gradient for each theta.\n",
        "    grad_0 = 1/n * np.sum(loss) # Gradient for theta_0\n",
        "    grad_1 = 1/n * np.sum(X*loss) # Gradient for theta_1\n",
        "    grad_2 = 1/n * np.sum(D*loss) # Gradient for theta_2\n",
        "    grad_3 = 1/n * np.sum(E*loss) # Gradient for theta_3\n",
        "    # Changing Values of theta using the gradients\n",
        "    theta[0] = theta[0] - alpha * grad_0\n",
        "    theta[1] = theta[1] - alpha * grad_1\n",
        "    theta[2] = theta[2] - alpha * grad_2\n",
        "    theta[3] = theta[3] - alpha * grad_3\n",
        "    # New Cost Value\n",
        "    cost = cost_function(X, Y, D, E, theta)\n",
        "    cost_history.append(cost)\n",
        "    eta_i = cost_history[i-1] - cost_history[i] if i > 0 else eta_i\n",
        "    i += 1\n",
        "  return (theta, cost_history)"
      ],
      "metadata": {
        "id": "1HlUKfU7ZMmS"
      },
      "execution_count": null,
      "outputs": []
    },
    {
      "cell_type": "code",
      "source": [
        "theta, cost_history = BGD(X, Y, D, E, theta, alpha, eta, max_iter)\n",
        "\n",
        "print(f'theta_0: {theta[0]}')\n",
        "print(f'theta_1: {theta[1]}')\n",
        "print(f'theta_2: {theta[2]}')\n",
        "print(f'theta_3: {theta[3]}')\n",
        "\n",
        "# Let's plot our cost history to see the GD progress and to see\n",
        "# if it is working properly.\n",
        "plt.plot(range(len(cost_history)),cost_history)\n",
        "plt.xlabel('Iterations')\n",
        "plt.ylabel('Cost function')\n",
        "plt.show()"
      ],
      "metadata": {
        "colab": {
          "base_uri": "https://localhost:8080/",
          "height": 534
        },
        "id": "QhYRNrOxkiAC",
        "outputId": "1d3cb8ea-3fd9-4ccc-d1a8-d2e66fc70540"
      },
      "execution_count": null,
      "outputs": [
        {
          "output_type": "stream",
          "name": "stdout",
          "text": [
            "theta_0: 80831\n",
            "theta_1: 13211\n",
            "theta_2: 1606\n",
            "theta_3: -2237\n"
          ]
        },
        {
          "output_type": "display_data",
          "data": {
            "text/plain": [
              "<Figure size 640x480 with 1 Axes>"
            ],
            "image/png": "[encoded data removed]"
          },
          "metadata": {}
        }
      ]
    },
    {
      "cell_type": "code",
      "source": [
        "Y_pred = theta[0] + theta[1]*X + theta[2]*D + theta[3]*E\n",
        "print('Predictions: \\n', Y_pred)"
      ],
      "metadata": {
        "colab": {
          "base_uri": "https://localhost:8080/"
        },
        "id": "7Ul3dzQrmFzb",
        "outputId": "9be78b02-ad5a-49b7-fdcd-0db63bbc72ab"
      },
      "execution_count": null,
      "outputs": [
        {
          "output_type": "stream",
          "name": "stdout",
          "text": [
            "Predictions: \n",
            " [ 56347.11708785  56765.72270951  57556.83417146  74637.44772149\n",
            "  72511.23191932  75095.69708077  63639.46309873  74344.22935644\n",
            "  77845.19323646  78926.72294926  85342.2139792   85968.29444692\n",
            "  89964.35130964  92967.42209276  91174.06839325 100629.47382973\n",
            "  95881.94924268  91299.45564986  93590.70244627 102132.40927839]\n"
          ]
        }
      ]
    },
    {
      "cell_type": "code",
      "source": [
        "# Now, let's calculate the RMSE\n",
        "# in two steps, first the summation\n",
        "rmse = np.sum((Y - Y_pred)**2)\n",
        "\n",
        "# And second, the mean and the square root\n",
        "rmse = np.sqrt(rmse/n)\n",
        "\n",
        "print('RMSE: ', round(rmse, 2))"
      ],
      "metadata": {
        "colab": {
          "base_uri": "https://localhost:8080/"
        },
        "id": "zCujO_7omnqK",
        "outputId": "6b6032aa-fb17-4fa2-9089-7ae76afe6506"
      },
      "execution_count": null,
      "outputs": [
        {
          "output_type": "stream",
          "name": "stdout",
          "text": [
            "RMSE:  5901.57\n"
          ]
        }
      ]
    },
    {
      "cell_type": "code",
      "source": [
        "# Let's calculate the SSR first\n",
        "ssr = np.sum((Y - Y_pred)**2)\n",
        "\n",
        "# And now the SST\n",
        "y_mean = Y.mean()\n",
        "sst = np.sum((Y - y_mean)**2)\n",
        "\n",
        "# Now, we can find the R² score\n",
        "r2  = 1 - (ssr/sst)\n",
        "print('R² score: ', round(r2, 3))"
      ],
      "metadata": {
        "colab": {
          "base_uri": "https://localhost:8080/"
        },
        "id": "F-OaaNfSmwGx",
        "outputId": "a06bf520-8b5b-4acc-d714-3936f384cc60"
      },
      "execution_count": null,
      "outputs": [
        {
          "output_type": "stream",
          "name": "stdout",
          "text": [
            "R² score:  0.851\n"
          ]
        }
      ]
    },
    {
      "cell_type": "markdown",
      "metadata": {
        "id": "aNQAwQgkz0pP"
      },
      "source": [
        "##2. Bicycle sharing data\n",
        "\n",
        "Alongside this notebook, you'll find the `bike_sharing.csv` file. This dataset contains observations of usage of bike sharing services all over the world inclunding date information as the day of use, which month, which weekday, etc, and also weather information, as the current season, temperature, humidity, etc. A complete description of the dataset can be found [here](http://archive.ics.uci.edu/ml/datasets/bike+sharing+dataset).\n",
        "\n",
        "a. Build two models, one to predict the usage in function of the temperature and other in function of the feeling temperature. Compare the parameters found for each model using the OLS to see how they differ. Calculate the RMSE and the R² to see wich one is more reliable.\n",
        "\n",
        "b. Build a multivariate model to predict the usage in function of the temperature, humidity and windspeed. Calculate the RMSE and the R² score."
      ]
    },
    {
      "cell_type": "code",
      "metadata": {
        "id": "KEzDsbhB9Ldt"
      },
      "source": [
        "# Start your exercise here. You can add as many cells as needed.\n",
        "# This command sets up the plots to be done inline\n",
        "%matplotlib inline\n",
        "import numpy as np # Python's numeric and linear algebra lib\n",
        "import random # Randomization lib\n",
        "import pandas as pd # Data manipulation and statistical analysis\n",
        "import matplotlib.pyplot as plt # The versatile plotting lib"
      ],
      "execution_count": null,
      "outputs": []
    },
    {
      "cell_type": "code",
      "source": [
        "from google.colab import drive\n",
        "drive.mount('/content/drive')\n",
        "# Change the path to your own file, after uploading it to your Google Drive\n",
        "bike_sharing = pd.read_csv(\"/content/drive/My Drive/Classroom/Machine Learning GEN-VG.ING.2021 2/Marvellous Solomon - bike_sharing.csv\")\n",
        "bike_sharing"
      ],
      "metadata": {
        "colab": {
          "base_uri": "https://localhost:8080/",
          "height": 679
        },
        "id": "3gHAssuen5v2",
        "outputId": "1883b77f-efdb-48c8-c78f-6395ca84f1d2"
      },
      "execution_count": null,
      "outputs": [
        {
          "output_type": "stream",
          "name": "stdout",
          "text": [
            "Drive already mounted at /content/drive; to attempt to forcibly remount, call drive.mount(\"/content/drive\", force_remount=True).\n"
          ]
        },
        {
          "output_type": "execute_result",
          "data": {
            "text/plain": [
              "     instant      dteday  season  yr  mnth  holiday  weekday  workingday  \\\n",
              "0          1  2011-01-01       1   0     1        0        6           0   \n",
              "1          2  2011-01-02       1   0     1        0        0           0   \n",
              "2          3  2011-01-03       1   0     1        0        1           1   \n",
              "3          4  2011-01-04       1   0     1        0        2           1   \n",
              "4          5  2011-01-05       1   0     1        0        3           1   \n",
              "..       ...         ...     ...  ..   ...      ...      ...         ...   \n",
              "726      727  2012-12-27       1   1    12        0        4           1   \n",
              "727      728  2012-12-28       1   1    12        0        5           1   \n",
              "728      729  2012-12-29       1   1    12        0        6           0   \n",
              "729      730  2012-12-30       1   1    12        0        0           0   \n",
              "730      731  2012-12-31       1   1    12        0        1           1   \n",
              "\n",
              "     weathersit      temp     atemp       hum  windspeed  casual  registered  \\\n",
              "0             2  0.344167  0.363625  0.805833   0.160446     331         654   \n",
              "1             2  0.363478  0.353739  0.696087   0.248539     131         670   \n",
              "2             1  0.196364  0.189405  0.437273   0.248309     120        1229   \n",
              "3             1  0.200000  0.212122  0.590435   0.160296     108        1454   \n",
              "4             1  0.226957  0.229270  0.436957   0.186900      82        1518   \n",
              "..          ...       ...       ...       ...        ...     ...         ...   \n",
              "726           2  0.254167  0.226642  0.652917   0.350133     247        1867   \n",
              "727           2  0.253333  0.255046  0.590000   0.155471     644        2451   \n",
              "728           2  0.253333  0.242400  0.752917   0.124383     159        1182   \n",
              "729           1  0.255833  0.231700  0.483333   0.350754     364        1432   \n",
              "730           2  0.215833  0.223487  0.577500   0.154846     439        2290   \n",
              "\n",
              "      cnt  \n",
              "0     985  \n",
              "1     801  \n",
              "2    1349  \n",
              "3    1562  \n",
              "4    1600  \n",
              "..    ...  \n",
              "726  2114  \n",
              "727  3095  \n",
              "728  1341  \n",
              "729  1796  \n",
              "730  2729  \n",
              "\n",
              "[731 rows x 16 columns]"
            ],
            "text/html": [
              "\n",
              "  <div id=\"df-b11bc674-c631-4959-a023-13978da4ae1f\">\n",
              "    <div class=\"colab-df-container\">\n",
              "      <div>\n",
              "<style scoped>\n",
              "    .dataframe tbody tr th:only-of-type {\n",
              "        vertical-align: middle;\n",
              "    }\n",
              "\n",
              "    .dataframe tbody tr th {\n",
              "        vertical-align: top;\n",
              "    }\n",
              "\n",
              "    .dataframe thead th {\n",
              "        text-align: right;\n",
              "    }\n",
              "</style>\n",
              "<table border=\"1\" class=\"dataframe\">\n",
              "  <thead>\n",
              "    <tr style=\"text-align: right;\">\n",
              "      <th></th>\n",
              "      <th>instant</th>\n",
              "      <th>dteday</th>\n",
              "      <th>season</th>\n",
              "      <th>yr</th>\n",
              "      <th>mnth</th>\n",
              "      <th>holiday</th>\n",
              "      <th>weekday</th>\n",
              "      <th>workingday</th>\n",
              "      <th>weathersit</th>\n",
              "      <th>temp</th>\n",
              "      <th>atemp</th>\n",
              "      <th>hum</th>\n",
              "      <th>windspeed</th>\n",
              "      <th>casual</th>\n",
              "      <th>registered</th>\n",
              "      <th>cnt</th>\n",
              "    </tr>\n",
              "  </thead>\n",
              "  <tbody>\n",
              "    <tr>\n",
              "      <th>0</th>\n",
              "      <td>1</td>\n",
              "      <td>2011-01-01</td>\n",
              "      <td>1</td>\n",
              "      <td>0</td>\n",
              "      <td>1</td>\n",
              "      <td>0</td>\n",
              "      <td>6</td>\n",
              "      <td>0</td>\n",
              "      <td>2</td>\n",
              "      <td>0.344167</td>\n",
              "      <td>0.363625</td>\n",
              "      <td>0.805833</td>\n",
              "      <td>0.160446</td>\n",
              "      <td>331</td>\n",
              "      <td>654</td>\n",
              "      <td>985</td>\n",
              "    </tr>\n",
              "    <tr>\n",
              "      <th>1</th>\n",
              "      <td>2</td>\n",
              "      <td>2011-01-02</td>\n",
              "      <td>1</td>\n",
              "      <td>0</td>\n",
              "      <td>1</td>\n",
              "      <td>0</td>\n",
              "      <td>0</td>\n",
              "      <td>0</td>\n",
              "      <td>2</td>\n",
              "      <td>0.363478</td>\n",
              "      <td>0.353739</td>\n",
              "      <td>0.696087</td>\n",
              "      <td>0.248539</td>\n",
              "      <td>131</td>\n",
              "      <td>670</td>\n",
              "      <td>801</td>\n",
              "    </tr>\n",
              "    <tr>\n",
              "      <th>2</th>\n",
              "      <td>3</td>\n",
              "      <td>2011-01-03</td>\n",
              "      <td>1</td>\n",
              "      <td>0</td>\n",
              "      <td>1</td>\n",
              "      <td>0</td>\n",
              "      <td>1</td>\n",
              "      <td>1</td>\n",
              "      <td>1</td>\n",
              "      <td>0.196364</td>\n",
              "      <td>0.189405</td>\n",
              "      <td>0.437273</td>\n",
              "      <td>0.248309</td>\n",
              "      <td>120</td>\n",
              "      <td>1229</td>\n",
              "      <td>1349</td>\n",
              "    </tr>\n",
              "    <tr>\n",
              "      <th>3</th>\n",
              "      <td>4</td>\n",
              "      <td>2011-01-04</td>\n",
              "      <td>1</td>\n",
              "      <td>0</td>\n",
              "      <td>1</td>\n",
              "      <td>0</td>\n",
              "      <td>2</td>\n",
              "      <td>1</td>\n",
              "      <td>1</td>\n",
              "      <td>0.200000</td>\n",
              "      <td>0.212122</td>\n",
              "      <td>0.590435</td>\n",
              "      <td>0.160296</td>\n",
              "      <td>108</td>\n",
              "      <td>1454</td>\n",
              "      <td>1562</td>\n",
              "    </tr>\n",
              "    <tr>\n",
              "      <th>4</th>\n",
              "      <td>5</td>\n",
              "      <td>2011-01-05</td>\n",
              "      <td>1</td>\n",
              "      <td>0</td>\n",
              "      <td>1</td>\n",
              "      <td>0</td>\n",
              "      <td>3</td>\n",
              "      <td>1</td>\n",
              "      <td>1</td>\n",
              "      <td>0.226957</td>\n",
              "      <td>0.229270</td>\n",
              "      <td>0.436957</td>\n",
              "      <td>0.186900</td>\n",
              "      <td>82</td>\n",
              "      <td>1518</td>\n",
              "      <td>1600</td>\n",
              "    </tr>\n",
              "    <tr>\n",
              "      <th>...</th>\n",
              "      <td>...</td>\n",
              "      <td>...</td>\n",
              "      <td>...</td>\n",
              "      <td>...</td>\n",
              "      <td>...</td>\n",
              "      <td>...</td>\n",
              "      <td>...</td>\n",
              "      <td>...</td>\n",
              "      <td>...</td>\n",
              "      <td>...</td>\n",
              "      <td>...</td>\n",
              "      <td>...</td>\n",
              "      <td>...</td>\n",
              "      <td>...</td>\n",
              "      <td>...</td>\n",
              "      <td>...</td>\n",
              "    </tr>\n",
              "    <tr>\n",
              "      <th>726</th>\n",
              "      <td>727</td>\n",
              "      <td>2012-12-27</td>\n",
              "      <td>1</td>\n",
              "      <td>1</td>\n",
              "      <td>12</td>\n",
              "      <td>0</td>\n",
              "      <td>4</td>\n",
              "      <td>1</td>\n",
              "      <td>2</td>\n",
              "      <td>0.254167</td>\n",
              "      <td>0.226642</td>\n",
              "      <td>0.652917</td>\n",
              "      <td>0.350133</td>\n",
              "      <td>247</td>\n",
              "      <td>1867</td>\n",
              "      <td>2114</td>\n",
              "    </tr>\n",
              "    <tr>\n",
              "      <th>727</th>\n",
              "      <td>728</td>\n",
              "      <td>2012-12-28</td>\n",
              "      <td>1</td>\n",
              "      <td>1</td>\n",
              "      <td>12</td>\n",
              "      <td>0</td>\n",
              "      <td>5</td>\n",
              "      <td>1</td>\n",
              "      <td>2</td>\n",
              "      <td>0.253333</td>\n",
              "      <td>0.255046</td>\n",
              "      <td>0.590000</td>\n",
              "      <td>0.155471</td>\n",
              "      <td>644</td>\n",
              "      <td>2451</td>\n",
              "      <td>3095</td>\n",
              "    </tr>\n",
              "    <tr>\n",
              "      <th>728</th>\n",
              "      <td>729</td>\n",
              "      <td>2012-12-29</td>\n",
              "      <td>1</td>\n",
              "      <td>1</td>\n",
              "      <td>12</td>\n",
              "      <td>0</td>\n",
              "      <td>6</td>\n",
              "      <td>0</td>\n",
              "      <td>2</td>\n",
              "      <td>0.253333</td>\n",
              "      <td>0.242400</td>\n",
              "      <td>0.752917</td>\n",
              "      <td>0.124383</td>\n",
              "      <td>159</td>\n",
              "      <td>1182</td>\n",
              "      <td>1341</td>\n",
              "    </tr>\n",
              "    <tr>\n",
              "      <th>729</th>\n",
              "      <td>730</td>\n",
              "      <td>2012-12-30</td>\n",
              "      <td>1</td>\n",
              "      <td>1</td>\n",
              "      <td>12</td>\n",
              "      <td>0</td>\n",
              "      <td>0</td>\n",
              "      <td>0</td>\n",
              "      <td>1</td>\n",
              "      <td>0.255833</td>\n",
              "      <td>0.231700</td>\n",
              "      <td>0.483333</td>\n",
              "      <td>0.350754</td>\n",
              "      <td>364</td>\n",
              "      <td>1432</td>\n",
              "      <td>1796</td>\n",
              "    </tr>\n",
              "    <tr>\n",
              "      <th>730</th>\n",
              "      <td>731</td>\n",
              "      <td>2012-12-31</td>\n",
              "      <td>1</td>\n",
              "      <td>1</td>\n",
              "      <td>12</td>\n",
              "      <td>0</td>\n",
              "      <td>1</td>\n",
              "      <td>1</td>\n",
              "      <td>2</td>\n",
              "      <td>0.215833</td>\n",
              "      <td>0.223487</td>\n",
              "      <td>0.577500</td>\n",
              "      <td>0.154846</td>\n",
              "      <td>439</td>\n",
              "      <td>2290</td>\n",
              "      <td>2729</td>\n",
              "    </tr>\n",
              "  </tbody>\n",
              "</table>\n",
              "<p>731 rows × 16 columns</p>\n",
              "</div>\n",
              "      <button class=\"colab-df-convert\" onclick=\"convertToInteractive('df-b11bc674-c631-4959-a023-13978da4ae1f')\"\n",
              "              title=\"Convert this dataframe to an interactive table.\"\n",
              "              style=\"display:none;\">\n",
              "        \n",
              "  <svg xmlns=\"http://www.w3.org/2000/svg\" height=\"24px\"viewBox=\"0 0 24 24\"\n",
              "       width=\"24px\">\n",
              "    <path d=\"M0 0h24v24H0V0z\" fill=\"none\"/>\n",
              "    <path d=\"M18.56 5.44l.94 2.06.94-2.06 2.06-.94-2.06-.94-.94-2.06-.94 2.06-2.06.94zm-11 1L8.5 8.5l.94-2.06 2.06-.94-2.06-.94L8.5 2.5l-.94 2.06-2.06.94zm10 10l.94 2.06.94-2.06 2.06-.94-2.06-.94-.94-2.06-.94 2.06-2.06.94z\"/><path d=\"M17.41 7.96l-1.37-1.37c-.4-.4-.92-.59-1.43-.59-.52 0-1.04.2-1.43.59L10.3 9.45l-7.72 7.72c-.78.78-.78 2.05 0 2.83L4 21.41c.39.39.9.59 1.41.59.51 0 1.02-.2 1.41-.59l7.78-7.78 2.81-2.81c.8-.78.8-2.07 0-2.86zM5.41 20L4 18.59l7.72-7.72 1.47 1.35L5.41 20z\"/>\n",
              "  </svg>\n",
              "      </button>\n",
              "      \n",
              "  <style>\n",
              "    .colab-df-container {\n",
              "      display:flex;\n",
              "      flex-wrap:wrap;\n",
              "      gap: 12px;\n",
              "    }\n",
              "\n",
              "    .colab-df-convert {\n",
              "      background-color: #E8F0FE;\n",
              "      border: none;\n",
              "      border-radius: 50%;\n",
              "      cursor: pointer;\n",
              "      display: none;\n",
              "      fill: #1967D2;\n",
              "      height: 32px;\n",
              "      padding: 0 0 0 0;\n",
              "      width: 32px;\n",
              "    }\n",
              "\n",
              "    .colab-df-convert:hover {\n",
              "      background-color: #E2EBFA;\n",
              "      box-shadow: 0px 1px 2px rgba(60, 64, 67, 0.3), 0px 1px 3px 1px rgba(60, 64, 67, 0.15);\n",
              "      fill: #174EA6;\n",
              "    }\n",
              "\n",
              "    [theme=dark] .colab-df-convert {\n",
              "      background-color: #3B4455;\n",
              "      fill: #D2E3FC;\n",
              "    }\n",
              "\n",
              "    [theme=dark] .colab-df-convert:hover {\n",
              "      background-color: #434B5C;\n",
              "      box-shadow: 0px 1px 3px 1px rgba(0, 0, 0, 0.15);\n",
              "      filter: drop-shadow(0px 1px 2px rgba(0, 0, 0, 0.3));\n",
              "      fill: #FFFFFF;\n",
              "    }\n",
              "  </style>\n",
              "\n",
              "      <script>\n",
              "        const buttonEl =\n",
              "          document.querySelector('#df-b11bc674-c631-4959-a023-13978da4ae1f button.colab-df-convert');\n",
              "        buttonEl.style.display =\n",
              "          google.colab.kernel.accessAllowed ? 'block' : 'none';\n",
              "\n",
              "        async function convertToInteractive(key) {\n",
              "          const element = document.querySelector('#df-b11bc674-c631-4959-a023-13978da4ae1f');\n",
              "          const dataTable =\n",
              "            await google.colab.kernel.invokeFunction('convertToInteractive',\n",
              "                                                     [key], {});\n",
              "          if (!dataTable) return;\n",
              "\n",
              "          const docLinkHtml = 'Like what you see? Visit the ' +\n",
              "            '<a target=\"_blank\" href=https://colab.research.google.com/notebooks/data_table.ipynb>data table notebook</a>'\n",
              "            + ' to learn more about interactive tables.';\n",
              "          element.innerHTML = '';\n",
              "          dataTable['output_type'] = 'display_data';\n",
              "          await google.colab.output.renderOutput(dataTable, element);\n",
              "          const docLink = document.createElement('div');\n",
              "          docLink.innerHTML = docLinkHtml;\n",
              "          element.appendChild(docLink);\n",
              "        }\n",
              "      </script>\n",
              "    </div>\n",
              "  </div>\n",
              "  "
            ]
          },
          "metadata": {},
          "execution_count": 18
        }
      ]
    },
    {
      "cell_type": "code",
      "source": [
        "A = bike_sharing[\"temp\"].values\n",
        "B = bike_sharing[\"cnt\"].values\n",
        "\n",
        "print('Dimensions of A: ', A.shape)\n",
        "print('Dimensions of B: ', B.shape)"
      ],
      "metadata": {
        "colab": {
          "base_uri": "https://localhost:8080/"
        },
        "id": "p0NKDBdVqLDn",
        "outputId": "6addd540-da63-4b6a-867f-3139069ee5be"
      },
      "execution_count": null,
      "outputs": [
        {
          "output_type": "stream",
          "name": "stdout",
          "text": [
            "Dimensions of A:  (731,)\n",
            "Dimensions of B:  (731,)\n"
          ]
        }
      ]
    },
    {
      "cell_type": "code",
      "source": [
        "x_mean = A.mean()\n",
        "x_std = A.std()\n",
        "y_mean = B.mean()\n",
        "n = len(A)"
      ],
      "metadata": {
        "id": "f6hGiHQEqbNd"
      },
      "execution_count": null,
      "outputs": []
    },
    {
      "cell_type": "code",
      "source": [
        "# Numpy makes easy to operate with vectors\n",
        "# and matrices.\n",
        "cov_xy = np.sum((A - x_mean) * (B - y_mean))\n",
        "var_x = np.sum((A-x_mean)**2)\n",
        "\n",
        "# The round function does not affect\n",
        "# the variable original value.\n",
        "print('cov_xy: ', round(cov_xy, 2))\n",
        "print('var_x: ', round(var_x, 2))\n"
      ],
      "metadata": {
        "colab": {
          "base_uri": "https://localhost:8080/"
        },
        "id": "02sW3YT7qd2W",
        "outputId": "b068d4b7-9704-464f-be9d-4799b186235b"
      },
      "execution_count": null,
      "outputs": [
        {
          "output_type": "stream",
          "name": "stdout",
          "text": [
            "cov_xy:  162435.73\n",
            "var_x:  24.46\n"
          ]
        }
      ]
    },
    {
      "cell_type": "code",
      "source": [
        "theta_1 = cov_xy / var_x\n",
        "theta_0 = y_mean - theta_1 * x_mean\n",
        "print(f'theta_0: {theta_0}')\n",
        "print(f'theta_1: {theta_1}')"
      ],
      "metadata": {
        "colab": {
          "base_uri": "https://localhost:8080/"
        },
        "id": "DBtBvZyIqymY",
        "outputId": "36a6a326-ea71-4fa2-8317-75f23a2e2cdc"
      },
      "execution_count": null,
      "outputs": [
        {
          "output_type": "stream",
          "name": "stdout",
          "text": [
            "theta_0: 1214.6421190294018\n",
            "theta_1: 6640.709998548637\n"
          ]
        }
      ]
    },
    {
      "cell_type": "code",
      "source": [
        "# Let's generate a vector with\n",
        "# the predicted values, according\n",
        "# to our model\n",
        "B_pred = theta_0 + theta_1 * A\n",
        "\n",
        "# Now, let's calculate the RMSE\n",
        "# in two steps, first the summation\n",
        "rmse = np.sum((B - B_pred)**2)\n",
        "\n",
        "# And second, the mean and the square root\n",
        "rmse = np.sqrt(rmse/n)\n",
        "\n",
        "print('RMSE: ', round(rmse, 2))"
      ],
      "metadata": {
        "colab": {
          "base_uri": "https://localhost:8080/"
        },
        "id": "nZ7KSEMIrMLk",
        "outputId": "79aa5ed6-1d05-46ca-f000-16fa57a263e1"
      },
      "execution_count": null,
      "outputs": [
        {
          "output_type": "stream",
          "name": "stdout",
          "text": [
            "RMSE:  1507.32\n"
          ]
        }
      ]
    },
    {
      "cell_type": "code",
      "source": [
        "# Let's calculate the SSR first\n",
        "ssr = np.sum((B - B_pred)**2)\n",
        "\n",
        "# And now the SST\n",
        "sst = np.sum((B - y_mean)**2)\n",
        "\n",
        "# Now, we can find the R² score\n",
        "r2  = 1 - (ssr/sst)\n",
        "print('R² score: ', round(r2, 3))"
      ],
      "metadata": {
        "colab": {
          "base_uri": "https://localhost:8080/"
        },
        "id": "WvxvonctrOq_",
        "outputId": "2a18f82f-35c1-4e3e-de88-05ab22cdb007"
      },
      "execution_count": null,
      "outputs": [
        {
          "output_type": "stream",
          "name": "stdout",
          "text": [
            "R² score:  0.394\n"
          ]
        }
      ]
    },
    {
      "cell_type": "code",
      "source": [
        "C = bike_sharing[\"atemp\"].values"
      ],
      "metadata": {
        "id": "BC8BvjKvrhnZ"
      },
      "execution_count": null,
      "outputs": []
    },
    {
      "cell_type": "code",
      "source": [
        "x_mean = C.mean()\n",
        "x_std = C.std()"
      ],
      "metadata": {
        "id": "Um6NLH_Zrj_n"
      },
      "execution_count": null,
      "outputs": []
    },
    {
      "cell_type": "code",
      "source": [
        "# Numpy makes easy to operate with vectors\n",
        "# and matrices.\n",
        "cov_xy = np.sum((C - x_mean) * (B - y_mean))\n",
        "var_x = np.sum((C-x_mean)**2)\n",
        "\n",
        "# The round function does not affect\n",
        "# the variable original value.\n",
        "print('cov_xy: ', round(cov_xy, 2))\n",
        "print('var_x: ', round(var_x, 2))"
      ],
      "metadata": {
        "colab": {
          "base_uri": "https://localhost:8080/"
        },
        "id": "dnMFBrb8sHyh",
        "outputId": "91a18c52-c734-40f2-e061-38f04a569eec"
      },
      "execution_count": null,
      "outputs": [
        {
          "output_type": "stream",
          "name": "stdout",
          "text": [
            "cov_xy:  145431.55\n",
            "var_x:  19.39\n"
          ]
        }
      ]
    },
    {
      "cell_type": "code",
      "source": [
        "theta_1 = cov_xy / var_x\n",
        "theta_0 = y_mean - theta_1 * x_mean\n",
        "print(f'theta_0: {theta_0}')\n",
        "print(f'theta_1: {theta_1}')"
      ],
      "metadata": {
        "colab": {
          "base_uri": "https://localhost:8080/"
        },
        "id": "TGuAwLBnsQD2",
        "outputId": "7bd3aa24-7924-4e9a-f70b-e0722ef47380"
      },
      "execution_count": null,
      "outputs": [
        {
          "output_type": "stream",
          "name": "stdout",
          "text": [
            "theta_0: 945.823981098491\n",
            "theta_1: 7501.833949516507\n"
          ]
        }
      ]
    },
    {
      "cell_type": "code",
      "source": [
        "# Let's generate a vector with\n",
        "# the predicted values, according\n",
        "# to our model\n",
        "B_pred = theta_0 + theta_1 * C\n",
        "\n",
        "# Now, let's calculate the RMSE\n",
        "# in two steps, first the summation\n",
        "rmse = np.sum((B - B_pred)**2)\n",
        "\n",
        "# And second, the mean and the square root\n",
        "rmse = np.sqrt(rmse/n)\n",
        "\n",
        "print('RMSE: ', round(rmse, 2))"
      ],
      "metadata": {
        "colab": {
          "base_uri": "https://localhost:8080/"
        },
        "id": "NXY_ocK8smjZ",
        "outputId": "3b4e61e8-f523-42be-ccba-78499d5b8e9b"
      },
      "execution_count": null,
      "outputs": [
        {
          "output_type": "stream",
          "name": "stdout",
          "text": [
            "RMSE:  1501.72\n"
          ]
        }
      ]
    },
    {
      "cell_type": "code",
      "source": [
        "# Let's calculate the SSR first\n",
        "ssr = np.sum((B - B_pred)**2)\n",
        "\n",
        "# And now the SST\n",
        "sst = np.sum((B - y_mean)**2)\n",
        "\n",
        "# Now, we can find the R² score\n",
        "r2  = 1 - (ssr/sst)\n",
        "print('R² score: ', round(r2, 3))"
      ],
      "metadata": {
        "colab": {
          "base_uri": "https://localhost:8080/"
        },
        "id": "Zc2efq9DstxS",
        "outputId": "13588f51-98ea-4b16-f1b5-7cdf55fd8745"
      },
      "execution_count": null,
      "outputs": [
        {
          "output_type": "stream",
          "name": "stdout",
          "text": [
            "R² score:  0.398\n"
          ]
        }
      ]
    },
    {
      "cell_type": "code",
      "source": [
        "A = bike_sharing[\"temp\"].values\n",
        "B = bike_sharing[\"cnt\"].values\n",
        "F = bike_sharing[\"hum\"].values\n",
        "G = bike_sharing[\"windspeed\"].values"
      ],
      "metadata": {
        "id": "TCfQ2DYGuq2T"
      },
      "execution_count": null,
      "outputs": []
    },
    {
      "cell_type": "code",
      "source": [
        "# Let's define a function for the cost function, so we can store its progress to\n",
        "# visualize if the GD is working properly.\n",
        "def cost_function(A, B, F, G, theta):\n",
        "  n = len(A)\n",
        "  J = 1/(2*n) * np.sum((theta[0] + theta[1] * A + theta[2] * F + theta[3] * G - B) ** 2)\n",
        "  return J"
      ],
      "metadata": {
        "id": "nU24jHa4v9EP"
      },
      "execution_count": null,
      "outputs": []
    },
    {
      "cell_type": "code",
      "source": [
        "# Let's apply feature scaling and mean normalization, to help the\n",
        "# Gradient descent to converge faster.\n",
        "x_mean = A.mean()\n",
        "x_std = A.std()\n",
        "A = (A - x_mean)/x_std\n",
        "\n",
        "x_mean = F.mean()\n",
        "x_std = F.std()\n",
        "F = (F - x_mean)/x_std\n",
        "\n",
        "x_mean = G.mean()\n",
        "x_std = G.std()\n",
        "G = (G - x_mean)/x_std\n",
        "# Reading y values from the dataset.\n",
        "B = bike_sharing[\"cnt\"].values\n",
        "\n",
        "# Determining the number of observations.\n",
        "n = len(A)\n",
        "\n",
        "# Theta values insida an array.\n",
        "theta = np.array([0,0,0,0])"
      ],
      "metadata": {
        "id": "_aock4u1wZKB"
      },
      "execution_count": null,
      "outputs": []
    },
    {
      "cell_type": "code",
      "source": [
        "# Let's first declare the learning rate.\n",
        "alpha = 0.01\n",
        "\n",
        "# Convergence criteria. We stop the algorithm if the difference between the cost and squared\n",
        "# error is smaller than eta or we reach the maximum number of iterations.\n",
        "eta = 0.001\n",
        "max_iter = 10000"
      ],
      "metadata": {
        "id": "pDhZGhaFxImI"
      },
      "execution_count": null,
      "outputs": []
    },
    {
      "cell_type": "code",
      "source": [
        "# Batch Gradient Descente function.\n",
        "def BGD(A, B, F, G, theta, alpha=0.01, eta=0.001, max_iter=10000):\n",
        "  # First iteration\n",
        "  i = 0\n",
        "  # Initializing the convergence criterion to the actual\n",
        "  # error.\n",
        "  eta_i = np.inf\n",
        "  # Let's store the progress, so we can visualize it later.\n",
        "  cost_history = []\n",
        "  while eta_i >= eta and i < max_iter:\n",
        "    # Let's start calculating the predictions for the actual\n",
        "    # values of theta\n",
        "    B_pred = theta[0] + theta[1]*A + theta[2]*F + theta[3]*G\n",
        "    # Now, we calculate the loss, that is, the difference between predicted and\n",
        "    # actual values, which is what we want to minimize.\n",
        "    loss = B_pred - B\n",
        "    # Calculating the gradient for each theta.\n",
        "    grad_0 = 1/n * np.sum(loss) # Gradient for theta_0\n",
        "    grad_1 = 1/n * np.sum(A*loss) # Gradient for theta_1\n",
        "    grad_2 = 1/n * np.sum(F*loss) # Gradient for theta_2\n",
        "    grad_3 = 1/n * np.sum(G*loss) # Gradient for theta_3\n",
        "    # Changing Values of theta using the gradients\n",
        "    theta[0] = theta[0] - alpha * grad_0\n",
        "    theta[1] = theta[1] - alpha * grad_1\n",
        "    theta[2] = theta[2] - alpha * grad_2\n",
        "    theta[3] = theta[3] - alpha * grad_3\n",
        "    # New Cost Value\n",
        "    cost = cost_function(A, B, F, G, theta)\n",
        "    cost_history.append(cost)\n",
        "    eta_i = cost_history[i-1] - cost_history[i] if i > 0 else eta_i\n",
        "    i += 1\n",
        "  return (theta, cost_history)"
      ],
      "metadata": {
        "id": "lJvB2ntjxbS2"
      },
      "execution_count": null,
      "outputs": []
    },
    {
      "cell_type": "code",
      "source": [
        "theta, cost_history = BGD(A, B, F, G, theta, alpha, eta, max_iter)\n",
        "\n",
        "print(f'theta_0: {theta[0]}')\n",
        "print(f'theta_1: {theta[1]}')\n",
        "print(f'theta_2: {theta[2]}')\n",
        "print(f'theta_3: {theta[3]}')\n",
        "\n",
        "# Let's plot our cost history to see the GD progress and to see\n",
        "# if it is working properly.\n",
        "plt.plot(range(len(cost_history)),cost_history)\n",
        "plt.xlabel('Iterations')\n",
        "plt.ylabel('Cost function')\n",
        "plt.show()"
      ],
      "metadata": {
        "colab": {
          "base_uri": "https://localhost:8080/",
          "height": 534
        },
        "id": "6SxNIai7zKEM",
        "outputId": "7332dbc2-65b3-4eee-8cb1-05d1071ba3ea"
      },
      "execution_count": null,
      "outputs": [
        {
          "output_type": "stream",
          "name": "stdout",
          "text": [
            "theta_0: 4405\n",
            "theta_1: 1112\n",
            "theta_2: -302\n",
            "theta_3: -263\n"
          ]
        },
        {
          "output_type": "display_data",
          "data": {
            "text/plain": [
              "<Figure size 640x480 with 1 Axes>"
            ],
            "image/png": "[encoded data removed]"
          },
          "metadata": {}
        }
      ]
    },
    {
      "cell_type": "code",
      "source": [
        "B_pred = theta[0] + theta[1]*A + theta[2]*F + theta[3]*G\n",
        "print('Predictions: \\n', B_pred)"
      ],
      "metadata": {
        "colab": {
          "base_uri": "https://localhost:8080/"
        },
        "id": "RPYGZXIxzkIR",
        "outputId": "a82e3867-2961-4e29-9d2c-3b39719e82ac"
      },
      "execution_count": null,
      "outputs": [
        {
          "output_type": "stream",
          "name": "stdout",
          "text": [
            "Predictions: \n",
            " [3210.21548098 3261.30531162 2795.35837198 2791.37068269 3190.54559944\n",
            " 3211.14053995 2936.25231733 2332.76409277 2063.2591456  2506.77091169\n",
            " 2529.53679846 2116.10624934 2355.43566681 2779.73369338 3196.46145218\n",
            " 3114.68590465 2642.2626402  2363.10427264 2867.57835388 3155.86923986\n",
            " 2282.30291562 2299.4501643  2195.81727703 2383.70568937 2981.39514904\n",
            " 1866.93900212 2712.79597482 2508.25578309 2690.85804555 2905.40023946\n",
            " 2555.26536245 2600.05956498 2410.39195438 2637.012745   2981.38177438\n",
            " 2272.61864458 3422.85476261 3303.37608204 2344.636834   2500.94240691\n",
            " 2568.46951994 3079.1650997  2880.05155034 3440.40782176 3678.8512959\n",
            " 3333.77799453 3553.81204125 4169.20312216 4547.97936617 3677.19843237\n",
            " 3483.12425688 2887.55005307 2589.9814316  3503.4497608  2839.580403\n",
            " 2899.65594254 3315.08962154 3592.55135525 3005.28733404 3123.64745987\n",
            " 3409.86150213 3136.29135557 2977.64826866 3178.26013355 2483.77439616\n",
            " 2634.84863903 3848.17416602 2778.17869407 4848.67150474 3127.44362894\n",
            " 3362.38707898 3671.18145838 3830.26678344 3285.06189044 3255.46078041\n",
            " 3904.50135301 4756.4340661  4190.23663891 3683.36328792 3444.02859554\n",
            " 3965.722044   2904.92990161 2567.5179658  3144.75993712 3440.67372101\n",
            " 3237.10157137 3617.89609045 3774.14100037 3237.19227334 2316.27063993\n",
            " 2861.76312534 3230.96874231 4035.34368688 4644.19302095 3210.19590906\n",
            " 3856.21760019 4201.79525115 2869.02650249 3140.94223103 3648.55655227\n",
            " 4370.53135552 3925.55869208 3291.09995815 4692.04970583 3894.97613418\n",
            " 2949.50343013 4100.54560695 4781.64910915 4498.43585569 4864.99962552\n",
            " 4195.67090329 3125.79420237 3501.5294402  4535.61107979 4783.31409874\n",
            " 4556.67584686 4308.87302476 4549.66455195 4687.91215368 4378.75639483\n",
            " 4140.22820377 4539.17266144 4478.66473186 3209.22748879 4218.40978145\n",
            " 4258.58544829 4840.47885882 4990.7039269  4762.87297374 5179.04387689\n",
            " 4917.94274534 4394.82118249 4046.03201142 4123.20156475 4432.85219308\n",
            " 4780.67341445 4067.29980157 4185.92730968 4471.94094356 4683.75199379\n",
            " 5295.91501658 4952.33804722 4699.82732391 5109.6637234  5388.83126783\n",
            " 5563.15876852 5312.08961861 5030.09576499 4966.68252806 5931.56121664\n",
            " 6354.97295964 5878.1567913  6079.44045141 5530.62195328 5846.61043042\n",
            " 5458.44982014 5809.25229801 5767.142454   6304.42478429 6571.66662761\n",
            " 6201.33769132 5865.214432   5440.00874522 5146.50324081 5055.03009569\n",
            " 5611.20514635 5030.66466447 5271.97499599 5779.74213366 5862.01328892\n",
            " 5121.4852111  5296.01768732 5744.46037647 5496.93277255 5804.42334858\n",
            " 5860.37386034 6096.19919943 5759.40157763 6060.93397369 5854.62055416\n",
            " 6057.21089188 6575.56129847 6526.96306279 5503.99535254 6159.87476411\n",
            " 6230.17264297 5663.37714351 6009.4881917  5311.04646309 5967.87628485\n",
            " 6066.58295753 5700.01820451 6333.9422488  6075.15337392 5683.68091265\n",
            " 5529.69361914 5598.17389284 5630.47039577 5797.00177038 6270.48813528\n",
            " 6156.58628291 6106.41105924 6846.17999108 7028.2600698  6675.00986651\n",
            " 5976.65854194 6236.05303046 6605.98034167 6265.42931098 6726.47915999\n",
            " 6700.47832726 6691.42538836 6362.69870229 6393.1855101  5964.98367715\n",
            " 5412.01074879 5728.13056625 5352.22923064 5604.57318204 6114.23161861\n",
            " 6360.41029761 6453.20069624 6275.62852556 6371.50534706 5275.7588438\n",
            " 4995.53277807 5199.80096019 5603.39176697 6061.032691   5518.0624899\n",
            " 5529.8443236  5827.58826272 5215.30657616 5640.26513378 5803.62042687\n",
            " 5322.65703452 5178.44613012 5727.64510294 4427.30697046 5444.34719128\n",
            " 5523.52641959 5670.22244651 5812.92265838 5516.72725947 5265.60357594\n",
            " 5290.58515204 5408.01862821 5066.47604825 3605.39952295 4739.69160791\n",
            " 4578.12280865 4996.46287358 5263.88617222 5439.15793147 5519.09238643\n",
            " 5335.77069433 5418.67584242 4457.8126794  4414.46668415 4193.26072764\n",
            " 4377.02476945 4731.73771472 4458.94107254 4752.70129136 4843.18912026\n",
            " 4746.24590356 4964.39066683 5263.79486151 5143.06008415 4963.0166919\n",
            " 4927.2489678  5050.82345309 4727.22760448 3273.16422287 3107.18069572\n",
            " 3810.68508084 4110.40613809 4668.54580348 4601.16476092 4950.35211831\n",
            " 4901.81522508 4901.3444573  5142.26265595 4615.70022084 3910.03444069\n",
            " 4570.19622838 4441.17956535 4550.75827183 4493.81877752 4794.56609718\n",
            " 4747.12336594 3940.09242796 3481.26893906 4001.36024403 4291.42634656\n",
            " 4025.29618677 4147.6883929  4352.30042807 4282.59325806 3833.39232092\n",
            " 3361.52195483 1852.0611504  3389.66973042 3586.07757318 3898.19732037\n",
            " 3863.70739608 3900.65916468 3580.79767115 3614.90395396 3618.97525523\n",
            " 3969.66360407 4089.28256014 3984.06257918 3314.93372801 3327.84481001\n",
            " 3647.55491026 4123.32670855 4307.71312257 4455.23819526 3710.84386468\n",
            " 3190.90352832 3597.1049328  3546.0176628  4105.28010409 3693.39399754\n",
            " 3459.97945303 3303.93254996 3908.82039386 3950.57921479 3978.68255356\n",
            " 3972.65951362 4374.11796545 3519.57953911 3126.17325169 3411.6905645\n",
            " 3612.48327531 3565.58429496 3452.56222792 3752.02527205 3379.57392753\n",
            " 2902.14508834 2942.83952398 3383.36429384 3175.61451857 3449.50368799\n",
            " 3182.69257704 3360.86536373 3687.43681055 3685.24889763 3705.64695933\n",
            " 2927.35783648 3001.07162822 3114.77510249 4245.74029705 3403.46557739\n",
            " 4178.34115139 3254.78567204 3414.2676363  3070.84393552 3439.68719721\n",
            " 3090.54344578 3123.64003335 3258.54367339 3460.251515   3810.78893962\n",
            " 3500.0006169  3103.96081835 2106.51734817 2519.31455596 3435.10355777\n",
            " 3683.71118702 4042.21784367 3787.26725055 2910.76719219 3240.56421765\n",
            " 2795.52546267 3379.73919148 2678.51952081 2860.54613861 2643.23392247\n",
            " 2633.40173619 2935.41101123 2865.22778711 2724.48167409 3051.55603404\n",
            " 1906.57546772 1993.10595595 2390.50865233 3260.98829578 3248.05307222\n",
            " 3567.55294585 3219.81316042 3423.84888352 3614.41998978 3425.67075212\n",
            " 3970.31488578 4505.01040464 3735.76913    3553.81520812 2910.50978177\n",
            " 2931.41300994 3248.26447504 3972.25503577 2944.99443014 3132.0778408\n",
            " 3537.03807129 2199.72165105 1772.36873844 3284.61552689 3754.02353169\n",
            " 3746.31382431 3389.71418069 3414.32791956 3697.43332536 3120.77921854\n",
            " 3219.37016072 3162.71147856 3777.71655987 4308.54075734 3478.30391416\n",
            " 2868.92728058 3502.88143863 3649.99917942 4059.37173565 3150.13760269\n",
            " 4249.45345791 3634.33391189 4025.24283329 3361.46775723 3000.5806509\n",
            " 3291.99994722 3566.19719933 3875.72376724 3597.76848191 3610.27239938\n",
            " 3803.81722265 4466.27565885 4692.45349767 5386.25653124 5022.99021741\n",
            " 3851.00778684 4518.65261714 4095.48506609 4588.27437015 4655.93653699\n",
            " 4558.04251858 4578.50168474 5162.40184064 3894.03986087 3413.57335267\n",
            " 3755.252177   4087.23483161 4304.33750226 4359.403407   3920.65794521\n",
            " 3533.53728518 3941.46675008 3880.32690924 5027.88057033 5054.55310484\n",
            " 4477.65379808 4004.36954038 4559.52832313 5037.05730521 4456.26134372\n",
            " 4318.14538524 3493.37108374 3813.53633626 4668.29121676 4666.37490794\n",
            " 5218.40338286 5251.15796834 5313.13872901 4411.42678102 4878.57657054\n",
            " 4591.59052404 4425.66858966 2841.39268536 2670.74846187 4074.81321724\n",
            " 4958.99853875 4196.76320716 4122.81382094 4182.28129833 4516.22548598\n",
            " 4402.07581127 5171.55377059 4642.18338835 4692.66741996 5073.53436734\n",
            " 5026.76365172 4713.02504114 4447.41703184 4448.15214113 4554.22683983\n",
            " 4209.70817737 5045.47494187 5364.77169913 5108.91345532 4460.36228893\n",
            " 4904.54100257 5346.11326049 5096.94977059 5227.24192363 5766.85627612\n",
            " 5157.48621551 4496.70533119 5085.0511877  5161.91645153 5246.67284618\n",
            " 5443.95614661 5352.41854546 5357.42577131 5601.74089742 5309.05994111\n",
            " 5486.79695752 5797.38907637 4939.78223321 5120.0044453  5363.39392878\n",
            " 5004.13044964 4647.34915729 5182.62145034 5297.70872639 5730.56746803\n",
            " 6276.4578613  6193.76126475 5801.81471417 4847.55473974 4958.68289714\n",
            " 5243.70829483 5407.4356164  5576.8693042  5211.99401528 4583.5837178\n",
            " 5590.37352495 6486.73160556 6662.95281054 6260.81233096 6075.89847902\n",
            " 6380.52611287 5634.41694455 5234.81888042 5926.01724823 6447.50755652\n",
            " 6844.81741024 6200.40913434 6659.14319091 6512.71121271 6646.58360424\n",
            " 6568.63841113 6772.54518067 6955.26241697 7011.24377251 6728.65930836\n",
            " 5629.37218588 5823.04765049 5870.23196269 6102.13657571 6515.09895665\n",
            " 5676.83917424 5817.3450745  6086.86469231 6885.46969014 6504.16549741\n",
            " 6217.77182788 4919.50030961 4434.16938408 5493.60830408 5937.44565065\n",
            " 5829.14243617 6260.44604641 5860.83317046 6343.30939315 6131.68183871\n",
            " 5857.58116791 5874.80067233 5653.17118147 5817.42299604 6108.36059181\n",
            " 5932.11784181 6019.67989827 5677.72958433 6119.85228815 5955.59482889\n",
            " 6128.21935523 6120.89592803 5394.3925292  5326.10816096 6091.57875569\n",
            " 6134.80634128 5758.68260869 5777.36066869 6161.41309204 5772.97704115\n",
            " 5612.10475097 5434.3338788  5238.77029324 5642.2974265  5755.11865762\n",
            " 5966.27380166 6093.28562255 5052.30583694 4772.42912158 5661.28886183\n",
            " 5836.34457575 5983.14926016 6153.89601837 6199.17948021 6213.41530141\n",
            " 5660.88839676 5482.40008086 5380.54022763 5640.32306271 5404.53807339\n",
            " 5503.18131624 4729.48438441 5156.82682276 4971.34817857 5467.37771052\n",
            " 5342.84016848 5463.41023261 5443.10725261 5165.74977373 5382.83839078\n",
            " 4829.63791997 4096.31865683 4861.92539534 4982.62322972 5072.32877156\n",
            " 4988.91515081 4840.27890305 4968.85702501 4704.19076212 5064.39137942\n",
            " 5402.02075638 5115.02994502 4745.66596867 4878.2853696  4853.07851692\n",
            " 4760.07917356 5459.47675083 5436.57566387 5418.69697202 4422.05212546\n",
            " 3918.23468355 3553.25387963 3825.63832987 4521.99160121 4417.28007535\n",
            " 4089.90197494 4218.08180492 4238.92541042 4280.57243687 4416.21639708\n",
            " 4329.23205524 4198.97542741 4609.63822235 4701.19100724 4548.34718638\n",
            " 4853.61567851 4998.13238084 5346.96479216 4595.45552475 4528.50035627\n",
            " 4266.47667557 3450.04121334 2963.84771583 2832.11728354 3565.42320535\n",
            " 3828.0864808  3519.07913923 3498.79138813 3614.46271167 3461.85330613\n",
            " 3287.41592675 2976.65569398 3624.76849852 3695.1133201  4172.56729686\n",
            " 4099.34587603 4158.09404594 2891.67822798 3281.22968862 3492.18578871\n",
            " 3776.11102664 3580.76747226 3211.57418073 3566.92607462 3912.90644833\n",
            " 3867.74721185 4028.49487168 3902.35863622 2926.41512995 3362.33160219\n",
            " 3982.9938472  2669.85285396 3386.04942392 3508.83062304 3609.42828245\n",
            " 3271.93806871 3315.82737506 4214.05569285 4117.08813463 3907.89777927\n",
            " 3254.99855784 3258.13192107 3415.0919815  3250.46784482 3413.19081871\n",
            " 3249.28247274 3485.6517325  3548.90521473 3275.1758146  3602.10669042\n",
            " 3454.57047582 3505.44858772 3704.63271744 3441.79873863 3511.75488884\n",
            " 2905.99258819 2669.13574595 3321.57605815 2837.54976191 3011.49858677\n",
            " 2030.00692833 2343.39573253 3132.88886915 2892.78451739 2711.23859473\n",
            " 2933.57256277]\n"
          ]
        }
      ]
    },
    {
      "cell_type": "code",
      "source": [
        "# Now, let's calculate the RMSE\n",
        "# in two steps, first the summation\n",
        "rmse = np.sum((B - B_pred)**2)\n",
        "\n",
        "# And second, the mean and the square root\n",
        "rmse = np.sqrt(rmse/n)\n",
        "\n",
        "print('RMSE: ', round(rmse, 2))"
      ],
      "metadata": {
        "colab": {
          "base_uri": "https://localhost:8080/"
        },
        "id": "vURsDbdWz0iM",
        "outputId": "a961510c-9e92-41d8-edda-1ef1f6892921"
      },
      "execution_count": null,
      "outputs": [
        {
          "output_type": "stream",
          "name": "stdout",
          "text": [
            "RMSE:  1436.64\n"
          ]
        }
      ]
    },
    {
      "cell_type": "code",
      "source": [
        "# Let's calculate the SSR first\n",
        "ssr = np.sum((B - B_pred)**2)\n",
        "\n",
        "# And now the SST\n",
        "b_mean = B.mean()\n",
        "sst = np.sum((B - b_mean)**2)\n",
        "\n",
        "# Now, we can find the R² score\n",
        "r2  = 1 - (ssr/sst)\n",
        "print('R² score: ', round(r2, 3))"
      ],
      "metadata": {
        "colab": {
          "base_uri": "https://localhost:8080/"
        },
        "id": "ninByzTaz-f7",
        "outputId": "bbccb61f-a90b-4714-f7a2-cc0a86ad9ec2"
      },
      "execution_count": null,
      "outputs": [
        {
          "output_type": "stream",
          "name": "stdout",
          "text": [
            "R² score:  0.449\n"
          ]
        }
      ]
    }
  ]
}